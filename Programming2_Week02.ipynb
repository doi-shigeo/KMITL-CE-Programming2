{
  "nbformat": 4,
  "nbformat_minor": 0,
  "metadata": {
    "colab": {
      "name": "Programming2_Week02.ipynb",
      "provenance": [],
      "collapsed_sections": [],
      "toc_visible": true,
      "authorship_tag": "ABX9TyNVn4hWxJOVD3lunftEVkcF",
      "include_colab_link": true
    },
    "kernelspec": {
      "name": "python3",
      "display_name": "Python 3"
    },
    "language_info": {
      "name": "python"
    }
  },
  "cells": [
    {
      "cell_type": "markdown",
      "metadata": {
        "id": "view-in-github",
        "colab_type": "text"
      },
      "source": [
        "<a href=\"https://colab.research.google.com/github/doi-shigeo/KMITL-CE-Programming2/blob/main/Programming2_Week02.ipynb\" target=\"_parent\"><img src=\"https://colab.research.google.com/assets/colab-badge.svg\" alt=\"Open In Colab\"/></a>"
      ]
    },
    {
      "cell_type": "markdown",
      "metadata": {
        "id": "_EGKlI9FbL8m"
      },
      "source": [
        "# File Input/Output\n",
        "\n",
        "You often use various files through operating systems, such as a text , Office, archive, databases, and so on.\n",
        "\n",
        "Once you create a file or database, it will be preserved in the file system generally, even if you turn off the power of your PC or you intentionally delete it.\n",
        "\n",
        "\n",
        "\n",
        "\n",
        "\n",
        "\n"
      ]
    },
    {
      "cell_type": "markdown",
      "metadata": {
        "id": "8UnSh_u2x4JU"
      },
      "source": [
        "## Simple File Input/Output \n",
        "\n",
        "One of the easiest way to store data is using a file. You can see the file through Explorer (for Windows). A file has a name (generally it includes an extension) and a byte sequence. An operating system identifies what the file type is by the extension and a part of the byte sequence (It is called \"Magic Number\". we'll explain in Reverse Engineering).\n",
        "\n",
        "Anyway, you often edit a text file. In the below, you will know how to access a file by Python. You take three steps to access (read/write) a file.\n",
        "\n",
        "1. Open a file\n",
        "2. Read/Write (Access) the file\n",
        "3. Close the file"
      ]
    },
    {
      "cell_type": "markdown",
      "metadata": {
        "id": "RKVVcBY6yG6G"
      },
      "source": [
        ""
      ]
    },
    {
      "cell_type": "markdown",
      "metadata": {
        "id": "U5DjwJw4laQZ"
      },
      "source": [
        "### Access a file\n",
        "\n"
      ]
    },
    {
      "cell_type": "markdown",
      "metadata": {
        "id": "jamNl2LlyTq3"
      },
      "source": [
        "#### Open a file\n",
        "\n",
        "```\n",
        "fileobj = open(filename, mode)\n",
        "```\n",
        "\n",
        "`fileobj` is a \"file object\" that is returned by `open()` function. This `fileobj` is used for accessing the file. Please be aware that **filename** is case sensitive.\n",
        "\n",
        "`filename` is a filename, a string.\n",
        "\n",
        "`mode` consists of 2 letters.\n",
        "The first letter can take the following values:\n",
        "- `r`: Read mode. If no file is existed, an exception will be thrown (Exception: will be explained later).\n",
        "- `w`: Write mode. If the file of  `filename` already exists, then the file is overwritten.\n",
        "- `x`: Write mode. It only works with if the file of `filename` doesn't exist.\n",
        "- `a`: Append mode. It will append the data from the last of `filename`.\n",
        "\n",
        "The second letter can take the type of data.\n",
        " Generally, \"text\" means MSB(Most  Significant Bit) of the data is always 0. In other words, the code is represented 0 to 127 in decimal. ), \"binary\" means MSB takes 0 or 1.\n",
        "- `b`: Binary Mode\n",
        "- `t`: Text Mode\n",
        "\n",
        "The difference between \"Binary Mode\" and \"Text Mode\" is that,\n",
        "\"Binary mode\" means it reads data as binary and \"Text mode\" means it reads data as a specified encoding (default: UTF-8).\n",
        "When printing data is binary (binary string), you can see the prefix \"b'\". If the data is text, you can see no prefix. You can distinguish if the data is binary or text.\n",
        "\n",
        "Once you open a file, you must close the file until the end of the program. \n",
        "You should use `with` statement (it will explain later) if possible.\n"
      ]
    },
    {
      "cell_type": "markdown",
      "metadata": {
        "id": "x4_r0IxZyLF1"
      },
      "source": [
        "#### Read a file\n",
        "\n",
        "You can use following functions to read a file. You can use these functions for binary mode and text mode:\n",
        "- `read()`: Read all the data of the file.\n",
        "- `read(size)`: Read `size` bytes of the file. \n",
        "- `readline()`: Read one line of the file. The end of each line is a '\\n'.\n",
        "- `readlines()`: Read all the data of the file. Each line is stored as a list. \n",
        "\n",
        "Below is the program to read and print the file named \"rfc0001.txt\".\n",
        "Before running the program, you must upload \"rfc0001.txt\" to the Google Drive.\n",
        "The file will be deleted if you close the Google Colab.\n",
        "\n",
        "1) Click \"Explorer\" icon in the leftmost pane. (The 4th order from the top)\n",
        "2) Click \"Upload Icon\" near \"Files\".\n",
        "3) Explorer launched. Then select an file to upload and click \"Open\".*italicized text*"
      ]
    },
    {
      "cell_type": "markdown",
      "metadata": {
        "id": "7kCjBtsRzo20"
      },
      "source": [
        "Example 1: The difference between \"Binary mode\" and \"Text mode\". Run the two program below and check the difference between them."
      ]
    },
    {
      "cell_type": "code",
      "metadata": {
        "colab": {
          "base_uri": "https://localhost:8080/"
        },
        "id": "32l77f4ul9Fv",
        "outputId": "85b4ae93-f9f7-4376-ae34-8cb42bdb4499"
      },
      "source": [
        "# Binary Mode\n",
        "fp = open(\"rfc0001.txt\" ,\"rb\") # Open a file as Read and Binary mode\n",
        "l = fp.readline()\n",
        "print(l)\n",
        "fp.close()\n"
      ],
      "execution_count": null,
      "outputs": [
        {
          "output_type": "stream",
          "name": "stdout",
          "text": [
            "b'\\n'\n"
          ]
        }
      ]
    },
    {
      "cell_type": "code",
      "metadata": {
        "colab": {
          "base_uri": "https://localhost:8080/"
        },
        "id": "l1FdrL-xzwIr",
        "outputId": "1ae352e4-ed74-4134-aa43-ba1dbcf3e884"
      },
      "source": [
        "# Text Mode\n",
        "fp = open(\"rfc0001.txt\" ,\"rt\") # Open a file as Read and Text mode\n",
        "l = fp.readline()\n",
        "print(l)\n",
        "fp.close()\n"
      ],
      "execution_count": null,
      "outputs": [
        {
          "output_type": "stream",
          "name": "stdout",
          "text": [
            "\n",
            "\n"
          ]
        }
      ]
    },
    {
      "cell_type": "markdown",
      "metadata": {
        "id": "Cx2uDFb9CSCk"
      },
      "source": [
        "Please take care that the prefix `b` is added to the string."
      ]
    },
    {
      "cell_type": "markdown",
      "metadata": {
        "id": "eb24m0NA03u1"
      },
      "source": [
        "Example 2: Examples of a whole file.\n"
      ]
    },
    {
      "cell_type": "markdown",
      "metadata": {
        "id": "tLQi6x6P4eCy"
      },
      "source": [
        "Read whole data (This lines can be used for binary mode)\n",
        "Generally, this program is simple but works well."
      ]
    },
    {
      "cell_type": "code",
      "metadata": {
        "id": "7o3m3ZTT20O9"
      },
      "source": [
        "fp = open(\"rfc0001.txt\", \"rt\")\n",
        "txt = fp.read()\n",
        "fp.close()\n",
        "print(txt)"
      ],
      "execution_count": null,
      "outputs": []
    },
    {
      "cell_type": "markdown",
      "metadata": {
        "id": "FnkG5MtgVtik"
      },
      "source": [
        "Read whole data of Text as binary\n",
        "You must understand what encoding of the file is and appropriate decode is required."
      ]
    },
    {
      "cell_type": "code",
      "metadata": {
        "colab": {
          "base_uri": "https://localhost:8080/"
        },
        "id": "KBKuheU5V1uN",
        "outputId": "9e344378-8f10-4521-a5a3-9fa834c816fb"
      },
      "source": [
        "fp = open(\"rfc0001.txt\", \"rb\")\n",
        "bin = fp.read()\n",
        "txt = bin.decode('UTF-8') # 'UTF-8' can be omitted because the default encoding character is UTF-8.\n",
        "print(txt)\n",
        "fp.close()"
      ],
      "execution_count": 8,
      "outputs": [
        {
          "output_type": "stream",
          "name": "stdout",
          "text": [
            "Hello, nice to meet youMy name is Anonymous\n"
          ]
        }
      ]
    },
    {
      "cell_type": "markdown",
      "metadata": {
        "id": "Nc5uuoaV4hjx"
      },
      "source": [
        "Read partial data (separated by constant bytes) and whole data finally.\n",
        "This program is useful for the environment with limited memory such as an embedded system."
      ]
    },
    {
      "cell_type": "code",
      "metadata": {
        "id": "fPe4AaTB29Fw"
      },
      "source": [
        "buf = ''\n",
        "chunk_size = 256\n",
        "fp = open(\"rfc0001.txt\", \"rt\")\n",
        "while True:\n",
        "  chunk = fp.read(chunk_size)\n",
        "  if not chunk: # if chunk is equal to '' (empty string), then 'not chunk' will be true.\n",
        "    break\n",
        "  buf += chunk\n",
        "fp.close()\n",
        "print(buf)"
      ],
      "execution_count": null,
      "outputs": []
    },
    {
      "cell_type": "markdown",
      "metadata": {
        "id": "N4mbmMYe53Di"
      },
      "source": [
        "Read partial data (separated by each line) and whole data finally.\n",
        "Please beware of using `read(size)` and `readline()`. "
      ]
    },
    {
      "cell_type": "code",
      "metadata": {
        "id": "5LCi7Bbe6A1P"
      },
      "source": [
        "buf = ''\n",
        "fp = open(\"rfc0001.txt\", \"rt\")\n",
        "while True:\n",
        "  l = fp.readline()\n",
        "  if not l: # if chunk is equal to '' (empty string), then 'not chunk' will be true.\n",
        "    break\n",
        "  buf += l\n",
        "fp.close()\n",
        "print(buf)"
      ],
      "execution_count": null,
      "outputs": []
    },
    {
      "cell_type": "markdown",
      "metadata": {
        "id": "LMx39kD_BRYV"
      },
      "source": [
        "#### Write a file\n",
        "\n",
        "When you want to write a file, then you open the file before writing.\n",
        "If you finished to use the file, you must close the file.\n",
        "\n",
        "The following example is to open a file \"output.txt\" with write mode.\n",
        "```\n",
        "fp = open(\"output.txt\", \"wt\") # output.txt is overwritten\n",
        "fp = open(\"output.txt\", \"at\") # output.txt is open for appending\n",
        "```\n",
        "\n",
        "To write a text or a binary into a file, you can use either `write(text_or_binary)`. If you want to add a newline (`'\\n'`), then you should put `'\\n'` explicitly.\n",
        "\n"
      ]
    },
    {
      "cell_type": "markdown",
      "metadata": {
        "id": "uSw7F7Gyk21h"
      },
      "source": [
        "Example: Write strings into a text file 'something.txt', \"something_with_newline.txt\" and \"something_binary.txt\".\n",
        "\n",
        "You can confirm the new file by clicking a folder mark in the leftmost pane."
      ]
    },
    {
      "cell_type": "markdown",
      "metadata": {
        "id": "bHLe5UXpRzuP"
      },
      "source": [
        "(1) Print a string to a file"
      ]
    },
    {
      "cell_type": "code",
      "metadata": {
        "id": "EgdXeoNLk9FG"
      },
      "source": [
        "str_1 = \"Hello, nice to meet you\"\n",
        "str_2 = \"My name is Anonymous\"\n",
        "\n",
        "# When you want to output a string, you should open a file with text mode.\n",
        "fp = open(\"something.txt\", \"wt\")\n",
        "fp.write(str_1)\n",
        "fp.write(str_2)\n",
        "fp.close()\n"
      ],
      "execution_count": 5,
      "outputs": []
    },
    {
      "cell_type": "markdown",
      "metadata": {
        "id": "_-1JdbNER2dL"
      },
      "source": [
        "(2) Print a string with new line by adding '\\n' at the end of line"
      ]
    },
    {
      "cell_type": "code",
      "metadata": {
        "id": "R0C29gJ_R6-n"
      },
      "source": [
        "str_1 = \"Hello, nice to meet you\"\n",
        "str_2 = \"My name is Anonymous\"\n",
        "\n",
        "fp2 = open(\"something_with_newline.txt\", \"wt\")\n",
        "fp2.write(str_1 + '\\n')\n",
        "fp2.write(str_2)\n",
        "fp2.close()"
      ],
      "execution_count": null,
      "outputs": []
    },
    {
      "cell_type": "markdown",
      "metadata": {
        "id": "Uht6MzQvSC5W"
      },
      "source": [
        "(3) Print a string as a binary mode (You need to convert a string to **bytes**, which means the binary data)\n",
        "The default encoding of Python3 is \"UTF-8\", "
      ]
    },
    {
      "cell_type": "code",
      "metadata": {
        "id": "xySLJMD0Q4Zt"
      },
      "source": [
        "str_1 = \"Hello, nice to meet you\"\n",
        "str_2 = \"My name is Anonymous\"\n",
        "\n",
        "fp3 = open(\"something_binary.txt\", \"wb\") # open with binary mode\n",
        "#fp3.write(str_1 + '\\n') # If you remove the # at the beginning, this will be an error. When opening in binary mode, the arguments for write() must be a `bytes`\n",
        "fp3.write(str_1.encode('UTF-8')) # To write binary mode, you must specify enconding and convert string to UTF-8 eplicitly\n",
        "fp3.write(str_2.encode()) # encode() is the same as encode('UTF-8')\n",
        "fp3.close()\n",
        "#fp3.write(str_2)"
      ],
      "execution_count": 7,
      "outputs": []
    },
    {
      "cell_type": "markdown",
      "metadata": {
        "id": "UG0yGsFxyYXg"
      },
      "source": [
        "#### Closing a file\n",
        "\n",
        "It is important when you finished to use a file, you must \"close\" the file because some data still remains in a memory (Generally, an operating system often postpones to write data to a file).\n",
        "To close a file, you call a function `fp.close()`, where `fp` is a return value by the `open()` function.\n",
        "\n",
        "```\n",
        "fp.close()\n",
        "```"
      ]
    },
    {
      "cell_type": "markdown",
      "metadata": {
        "id": "Fd2giwM6Xdb-"
      },
      "source": [
        "### Practice: Encoding Conversion\n",
        "\n",
        "There are some text encodings for Thai language. As far as I know, \"TIS-620\", \"ISO-8859-11\", \"UTF-8\" are used to express Thai text in a computer.\n",
        "\n",
        "Then, write a program to convert text in from UTF-8 to ISO-8859-11. You can assume the encoding of reading file is UTF-8.\n",
        "\n",
        "You can get a bytes from a string by calling `str.encode('ISO-8859-11')` where `str` is a string. You can confirm the result with editors which are capable of reading ISO-8859-11.\n",
        "\n",
        "This program is considered as a part of `iconv` utility. https://en.wikipedia.org/wiki/Iconv"
      ]
    },
    {
      "cell_type": "code",
      "metadata": {
        "id": "zP8QOjt4Ydr6"
      },
      "source": [
        "# When you want to output a string, you should open a file with text mode.\n",
        "fp = open(\"text_UTF-8.txt\", \"rt\") # You can rename the filename\n",
        "\n",
        "# fill the code line(s) to read UTF-8.txt as a UTF-8 encoding.\n",
        "\n",
        "fp.close()\n",
        "\n",
        "# When you want to use the different encoding other than UTF-8, you should open the output file as binary mode.\n",
        "fp = open(\"text_ISO-8859-11.txt\", \"wb\")\n",
        "# fill the code line(s) to write the text in a string as ISO-8859-11 encoding.\n",
        "fp.close()"
      ],
      "execution_count": 10,
      "outputs": []
    },
    {
      "cell_type": "markdown",
      "metadata": {
        "id": "y_4ahn03rwTS"
      },
      "source": [
        "### Practice: PNG Checker\n",
        "\n",
        "PNG (Portable Network Graphics) files are used for image files.\n",
        "An operating system recognizes a file format with its extension and the contents. Generally, a file with binary file format (not text) start a special consecutive bytes, **Magic Number**. \n",
        "\n",
        "PNG file has a magic number with the first 4 bytes,\n",
        "In other words, PNG file starts with 4 consective bytes, **0x89, 0x50, 0x4e, and 0x47**. (The magic number is expressed '\\x89PNG' in byte string)\n",
        "\n",
        "In this practice, you write a program to check whether a file is\n",
        "\n",
        "Before running the program, please upload a png file to the Google Colaboratory.\n",
        "Please remember the file will be automatically deleted once connection is lost.\n"
      ]
    },
    {
      "cell_type": "code",
      "metadata": {
        "colab": {
          "base_uri": "https://localhost:8080/"
        },
        "id": "BhfKxz-5tyi6",
        "outputId": "079ff045-9b53-4037-91a4-583f54b0a2ad"
      },
      "source": [
        "fp = open(\"filename.PNG\", \"rb\")\n",
        "magic_number = # fill here\n",
        "fp.close()\n",
        "if # Is the Magic number considered as a PNG?\n",
        "  print(\"This file is PNG\")\n",
        "else:\n",
        "  print(\"This file is not PNG\")\n",
        "\n"
      ],
      "execution_count": 19,
      "outputs": [
        {
          "output_type": "stream",
          "name": "stdout",
          "text": [
            "This file is PNG\n"
          ]
        }
      ]
    },
    {
      "cell_type": "markdown",
      "metadata": {
        "id": "xbdOP1XUxWJz"
      },
      "source": [
        "## CSV file (Excel, Google Spreadsheet) Read\n",
        "\n",
        "Spread sheet applications (Google Spreadsheet, Microsoft Excel) can export a spreadsheet to \"CSV\" (Comma Separated Values) file. CSV format is easy to use many applications.\n",
        "\n"
      ]
    },
    {
      "cell_type": "markdown",
      "metadata": {
        "id": "7Z0xAm6fDKaX"
      },
      "source": [
        "### Read a CSV file\n",
        "Generally you can read a CSV file like this:\n",
        "\n",
        "```\n",
        "import csv\n",
        "\n",
        "with open('BarcodeAndPrice.csv') as csvfile:\n",
        "  header=['Barcode', 'Price'] # Specifying the field names of each column\n",
        "  reader = csv.DictReader(csvfile, fieldnames=header) # Read\n",
        "  for row in reader: # For each row, you can do something\n",
        "    print(row['Barcode'], row['Price'])\n",
        "```\n",
        "\n",
        "You need to import 'csv' library, which is in Python standard library.\n",
        "The next statement `'with'`, you can read a csv file and close the file automatically.\n",
        "The next statement indicates that what the header is for each column.\n",
        "Thus, the first column is 'Barcode' and the second column is 'Price'. \n",
        "\n",
        "International Barcode Database is available on https://barcodesdatabase.org/ .\n",
        "\n",
        "You can do some operations for each row like `for row in reader`."
      ]
    },
    {
      "cell_type": "code",
      "metadata": {
        "id": "cJppVB3783Fl"
      },
      "source": [
        "import csv\n",
        "\n",
        "# Assuming the CSV file have two columns for each row.\n",
        "with open('BarcodeAndPrice.csv') as csvfile:\n",
        "  header=['Barcode', 'Price']\n",
        "  reader = csv.DictReader(csvfile, fieldnames=header)\n",
        "  for row in reader:\n",
        "    print(row['Barcode'], row['Price'])\n"
      ],
      "execution_count": null,
      "outputs": []
    },
    {
      "cell_type": "markdown",
      "metadata": {
        "id": "ao0K-jhwHeJB"
      },
      "source": [
        "### Write a CSV file\n",
        "\n",
        "Simply you can write a CSV file like this:\n",
        "\n",
        "If you gather information from sensors and save it to a file, Using CSV format is one of the simple implementation to record time-series data, such as IoT devices.\n",
        "\n",
        "```\n",
        "import csv\n",
        "\n",
        "data = [0.0, -0.1, -0.1, -0.2, -0.2, -0.2]\n",
        "\n",
        "with open('timeseries.csv', 'w') as csvfile:\n",
        "    timeserieswriter = csv.writer(csvfile)\n",
        "    # timeserieswriter.writerow(['Time', 'Value']) # This output is for header\n",
        "    counter = 0\n",
        "    for val in data: # write each datum to a file\n",
        "      timeserieswriter.writerow([counter, data[counter]])\n",
        "      counter += 1\n",
        "```\n"
      ]
    },
    {
      "cell_type": "code",
      "metadata": {
        "id": "f6yM7H6SJQoJ"
      },
      "source": [
        "import csv\n",
        "\n",
        "data = [0.0, -0.1, -0.1, -0.2, -0.2, -0.2]\n",
        "\n",
        "with open('timeseries.csv', 'w') as csvfile:\n",
        "    timeserieswriter = csv.writer(csvfile)\n",
        "    # timeserieswriter.writerow(['Time', 'Value']) # This output is for header\n",
        "    counter = 0\n",
        "    for val in data: # write each datum to a file\n",
        "      timeserieswriter.writerow([counter, data[counter]])\n",
        "      counter += 1\n"
      ],
      "execution_count": 21,
      "outputs": []
    },
    {
      "cell_type": "markdown",
      "metadata": {
        "id": "NI1V_MVsKxbl"
      },
      "source": [
        "### Practice: Barcode Checker\n",
        "\n",
        "At the supermarkets and comvenience stores, you have seen a barcode reader.\n",
        "Once an operator checks a barcode by a reader, the product and the price are checked automatically.\n",
        "\n",
        "In the real supermarkets or conveinence stores, the data are stored in the **database**. In this practice, we use a CSV file instead of the database to get the barcode and the price.\n",
        "\n",
        "Develop a program below:\n",
        "- Read the CSV file. The first column is \"Barcode\" and the second column is  \"Price\".  \n",
        "- Once you enter a barcode, you get and show the price for the barcode.\n",
        "- If the barcode isn't existeted in the CSV file, then show that \"no product is found for this barcode\".\n",
        "\n"
      ]
    },
    {
      "cell_type": "code",
      "metadata": {
        "colab": {
          "base_uri": "https://localhost:8080/"
        },
        "id": "dpcWKcDFRJYq",
        "outputId": "401579b7-fd01-4ddf-cd14-09d02a670ec7"
      },
      "source": [
        "import csv\n",
        "\n",
        "dict = {} # empty dictionary\n",
        "found = False # flag if barcode is found in the CSV file\n",
        "\n",
        "# Assuming the CSV file have two columns for each row.\n",
        "with open('BarcodeAndPrice.csv') as csvfile:\n",
        "  header=['Barcode', 'Price']\n",
        "  reader = csv.DictReader(csvfile, fieldnames=header)\n",
        "  barcode = input(\"Input barcode: \")\n",
        "  # write a code to check whether the barcode is in the CSV file.\n",
        "  # Hint: check each row in reader and compare. \n",
        "  # Once matched, you can break a loop and print the price.\n",
        "\n",
        "\n"
      ],
      "execution_count": 14,
      "outputs": [
        {
          "output_type": "stream",
          "name": "stdout",
          "text": [
            "Input barcode: 8859876543210\n",
            "The price of the products with barcode 8859876543210 is 40\n"
          ]
        }
      ]
    }
  ]
}