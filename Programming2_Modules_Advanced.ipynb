{
  "nbformat": 4,
  "nbformat_minor": 0,
  "metadata": {
    "colab": {
      "name": "Programming2_Modules_Advanced.ipynb",
      "provenance": [],
      "collapsed_sections": [],
      "authorship_tag": "ABX9TyNMAak6DQLcgYbhelslMkrR",
      "include_colab_link": true
    },
    "kernelspec": {
      "name": "python3",
      "display_name": "Python 3"
    },
    "language_info": {
      "name": "python"
    }
  },
  "cells": [
    {
      "cell_type": "markdown",
      "metadata": {
        "id": "view-in-github",
        "colab_type": "text"
      },
      "source": [
        "<a href=\"https://colab.research.google.com/github/doi-shigeo/KMITL-CE-Programming2/blob/main/Programming2_Modules_Advanced.ipynb\" target=\"_parent\"><img src=\"https://colab.research.google.com/assets/colab-badge.svg\" alt=\"Open In Colab\"/></a>"
      ]
    },
    {
      "cell_type": "markdown",
      "metadata": {
        "id": "dJC-FdLjHU6C"
      },
      "source": [
        "# Modules\n",
        "You can implement some application using module. \n",
        "(The programs are advanced, you can investigate how the each statement works.)\n",
        "\n",
        "## 1D Barcode \n",
        "This program generates barcode images given in \"barcode_list\"."
      ]
    },
    {
      "cell_type": "code",
      "metadata": {
        "colab": {
          "base_uri": "https://localhost:8080/"
        },
        "id": "6ypv5uM5HStY",
        "outputId": "686841a0-9eaa-4a10-d996-5d56af42bcb8"
      },
      "source": [
        "!pip install python-barcode"
      ],
      "execution_count": null,
      "outputs": [
        {
          "output_type": "stream",
          "name": "stdout",
          "text": [
            "Collecting python-barcode\n",
            "  Downloading python_barcode-0.13.1-py3-none-any.whl (217 kB)\n",
            "\u001b[?25l\r\u001b[K     |█▌                              | 10 kB 20.0 MB/s eta 0:00:01\r\u001b[K     |███                             | 20 kB 25.8 MB/s eta 0:00:01\r\u001b[K     |████▌                           | 30 kB 16.9 MB/s eta 0:00:01\r\u001b[K     |██████                          | 40 kB 12.2 MB/s eta 0:00:01\r\u001b[K     |███████▌                        | 51 kB 8.9 MB/s eta 0:00:01\r\u001b[K     |█████████                       | 61 kB 9.8 MB/s eta 0:00:01\r\u001b[K     |██████████▋                     | 71 kB 8.5 MB/s eta 0:00:01\r\u001b[K     |████████████                    | 81 kB 9.3 MB/s eta 0:00:01\r\u001b[K     |█████████████▋                  | 92 kB 8.9 MB/s eta 0:00:01\r\u001b[K     |███████████████                 | 102 kB 8.2 MB/s eta 0:00:01\r\u001b[K     |████████████████▋               | 112 kB 8.2 MB/s eta 0:00:01\r\u001b[K     |██████████████████              | 122 kB 8.2 MB/s eta 0:00:01\r\u001b[K     |███████████████████▋            | 133 kB 8.2 MB/s eta 0:00:01\r\u001b[K     |█████████████████████▏          | 143 kB 8.2 MB/s eta 0:00:01\r\u001b[K     |██████████████████████▋         | 153 kB 8.2 MB/s eta 0:00:01\r\u001b[K     |████████████████████████▏       | 163 kB 8.2 MB/s eta 0:00:01\r\u001b[K     |█████████████████████████▋      | 174 kB 8.2 MB/s eta 0:00:01\r\u001b[K     |███████████████████████████▏    | 184 kB 8.2 MB/s eta 0:00:01\r\u001b[K     |████████████████████████████▋   | 194 kB 8.2 MB/s eta 0:00:01\r\u001b[K     |██████████████████████████████▏ | 204 kB 8.2 MB/s eta 0:00:01\r\u001b[K     |███████████████████████████████▊| 215 kB 8.2 MB/s eta 0:00:01\r\u001b[K     |████████████████████████████████| 217 kB 8.2 MB/s \n",
            "\u001b[?25hInstalling collected packages: python-barcode\n",
            "Successfully installed python-barcode-0.13.1\n"
          ]
        }
      ]
    },
    {
      "cell_type": "code",
      "metadata": {
        "id": "Uys5YfhLG45_"
      },
      "source": [
        "import barcode\n",
        "import barcode.writer as bw\n",
        "import io\n",
        "import IPython.display as ipd # instead of \"IPython.display import Image,display_png\"\n",
        "\n",
        "\n",
        "barcode_list = {'8850039711017', '4901515122484'}\n",
        "\n",
        "for b in barcode_list:\n",
        "  ean = barcode.get('ean13', b, writer=bw.ImageWriter())\n",
        "  filename = ean.save(b)\n",
        "  ipd.display_png(ipd.Image(b + \".png\")) # displays image(barcode) inline\n",
        "\n"
      ],
      "execution_count": null,
      "outputs": []
    },
    {
      "cell_type": "markdown",
      "source": [
        "Once you installed python-barcode and run the program, then look at the \"Files\". "
      ],
      "metadata": {
        "id": "9Ot5VfujekEs"
      }
    },
    {
      "cell_type": "markdown",
      "source": [
        "## QR Code\n",
        "\n",
        "You can generate a QR code in Python Program.\n"
      ],
      "metadata": {
        "id": "KVkHCdMFe5DD"
      }
    },
    {
      "cell_type": "code",
      "metadata": {
        "id": "rwJBurJ8Ls3i"
      },
      "source": [
        "!pip install qrcode"
      ],
      "execution_count": null,
      "outputs": []
    },
    {
      "cell_type": "code",
      "source": [
        "import qrcode\n",
        "import IPython.display as ipd # instead of \"IPython.display import Image,display_png\"\n",
        "\n",
        "\n",
        "FILENAME = \"KOSEN-KMITL.png\"\n",
        "message = \"http://www.kosen.kmitl.ac.th/\"\n",
        "\n",
        "# make a QR cpde\n",
        "img = qrcode.make(message)\n",
        "# type(img)  # qrcode.image.pil.PilImage\n",
        "img.save(FILENAME)\n",
        "ipd.display_png(ipd.Image(FILENAME))"
      ],
      "metadata": {
        "id": "4LGMRhrofCyO"
      },
      "execution_count": null,
      "outputs": []
    },
    {
      "cell_type": "markdown",
      "source": [
        "## Plot a graph of given data\n",
        "\n",
        "\"matplotlib\" is a good graph drawer module.\n",
        "You read data from CSV files, and then you draw a graph by the data.\n"
      ],
      "metadata": {
        "id": "o0_pvgd_kzoP"
      }
    },
    {
      "cell_type": "code",
      "source": [
        "import matplotlib.pyplot as plt\n",
        "\n",
        "# measured data\n",
        "# you can replace this with observed data or data from CSV file\n",
        "x = [a for a in range(1,6)]\n",
        "y = [1.5, 1.4, 1.28, 1.11, 1.1]\n",
        "\n",
        "# draw lines on a graph with connecting neighboring two points\n",
        "plt.plot(x, y, marker=\"s\")\n",
        "# show the graph\n",
        "plt.show()\n"
      ],
      "metadata": {
        "id": "BlHQ-ZnLk6Ei"
      },
      "execution_count": null,
      "outputs": []
    },
    {
      "cell_type": "markdown",
      "source": [
        "## Draw a line by least square method\n",
        "You can draw a line by least square method with observed data.\n",
        "For example, you did a labwork and measured relation between voltage and current.\n",
        "You can draw a graph of the data.\n"
      ],
      "metadata": {
        "id": "wFAz8GtGm789"
      }
    },
    {
      "cell_type": "code",
      "source": [
        "import numpy as np\n",
        "import matplotlib.pyplot as plt\n",
        "\n",
        "# meadured data. you can convert data to numpy\n",
        "x = np.array([1, 2, 3, 4, 5])\n",
        "y = np.array([1.5, 1.4, 1.28, 1.11, 1.1])\n",
        "\n",
        "# define a function of least square method\n",
        "# In numpy you can find \"dot\" functions for inner product.\n",
        "def get_approx_line_by_data(x, y):\n",
        "  \"\"\"find an approximate line by least square method\"\"\"\n",
        "  \"\"\"returns the slope and the intercept of the approximate line\"\"\"\n",
        "  n = len(x)\n",
        "  a = ((np.dot(x, y)- y.sum() * x.sum()/n)/\n",
        "      ((x ** 2).sum() - x.sum()**2 / n))\n",
        "  b = (y.sum() - a * x.sum())/n\n",
        "  return a, b # you can return more than one using \",\"\n",
        "\n",
        "a, b = get_approx_line_by_data(x, y) # a is slope and b is intercept\n",
        "print(a, b)\n",
        "plt.scatter(x, y, color=\"k\")\n",
        "plt.plot([0, x.max()], [b, a * x.max() + b]) \n",
        "plt.show()"
      ],
      "metadata": {
        "id": "jgNBVhb2nDdv"
      },
      "execution_count": null,
      "outputs": []
    },
    {
      "cell_type": "markdown",
      "source": [
        "## Fetch a image and decompose \n",
        "Lenna.png: A famous photo used in image processing:\n",
        " https://upload.wikimedia.org/wikipedia/en/7/7d/Lenna_%28test_image%29.png\n",
        "\n",
        "\n",
        "\n"
      ],
      "metadata": {
        "id": "U3xViqTR5ESi"
      }
    },
    {
      "cell_type": "code",
      "source": [
        "import requests # requests in beautifulsoap\n",
        "import IPython.display as ipd # instead of \"IPython.display import Image,display_png\"\n",
        "import cv2      # OpenCV\n",
        "\n",
        "URL = \"https://media.gogoprint.co.th/wysiwyg/RGB.png\"\n",
        "#URL = \"https://i.stack.imgur.com/AhFkA.png\" # Lenna is a famous image in image processing\n",
        "\n",
        "temp_file = \"tmp\"\n",
        "# fetching a image (using requests)\n",
        "res = requests.get(URL) \n",
        "if res.status_code != 200:\n",
        "  print(\"Unknown\")\n",
        "\n",
        "# print(res.status_code)\n",
        "with open(temp_file + \".png\", \"wb\") as fp:\n",
        "  fp.write(res.content)\n",
        "\n",
        "# color decomposition of Lenna.png\n",
        "img = cv2.imread(temp_file + \".png\")\n",
        "img_bgr = cv2.split(img) # decompose images into each color decomposition in RGB\n",
        "img_neg = 255 - img\n",
        "\n",
        "# Write the decomposed images to files\n",
        "cv2.imwrite(temp_file + \"_b.png\", img_bgr[0])\n",
        "cv2.imwrite(temp_file + \"_g.png\", img_bgr[1])\n",
        "cv2.imwrite(temp_file + \"_r.png\", img_bgr[2])\n",
        "cv2.imwrite(temp_file + \"_n.png\", img_neg)\n",
        "\n",
        "# show inline\n",
        "ipd.display_png(ipd.Image(temp_file + \".png\"))\n",
        "ipd.display_png(ipd.Image(temp_file + \"_n.png\"))\n",
        "ipd.display_png(ipd.Image(temp_file + \"_b.png\"))\n",
        "ipd.display_png(ipd.Image(temp_file + \"_g.png\"))\n",
        "ipd.display_png(ipd.Image(temp_file + \"_r.png\"))\n",
        "\n",
        "\n"
      ],
      "metadata": {
        "id": "0Jf0H46P5T-L"
      },
      "execution_count": null,
      "outputs": []
    }
  ]
}