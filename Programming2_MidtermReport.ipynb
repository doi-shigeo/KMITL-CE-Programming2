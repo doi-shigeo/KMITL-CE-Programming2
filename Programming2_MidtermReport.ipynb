{
  "nbformat": 4,
  "nbformat_minor": 0,
  "metadata": {
    "colab": {
      "name": "[Template] Programming_2_(Dept_of_Computer_Eng_)_Mid_term_Report.ipynb",
      "provenance": [],
      "collapsed_sections": [],
      "include_colab_link": true
    },
    "kernelspec": {
      "name": "python3",
      "display_name": "Python 3"
    },
    "language_info": {
      "name": "python"
    }
  },
  "cells": [
    {
      "cell_type": "markdown",
      "metadata": {
        "id": "view-in-github",
        "colab_type": "text"
      },
      "source": [
        "<a href=\"https://colab.research.google.com/github/doi-shigeo/KMITL-CE-Programming2/blob/main/Programming2_MidtermReport.ipynb\" target=\"_parent\"><img src=\"https://colab.research.google.com/assets/colab-badge.svg\" alt=\"Open In Colab\"/></a>"
      ]
    },
    {
      "cell_type": "markdown",
      "source": [
        "# Programming 2 (Dept. of Computer Eng.) Mid-term Report\n",
        "## Due date: 05/Jan/2022 : Google Classroom. Please submit this Jupyter Notebook after filling your ID and nickname below!\n",
        "\n"
      ],
      "metadata": {
        "id": "o0MC2sOQcz-H"
      }
    },
    {
      "cell_type": "markdown",
      "source": [
        "Fill your ID of 8 digits in the blank below: \n",
        "You don't have to compile it :-)"
      ],
      "metadata": {
        "id": "7a6Qlj-w1EOn"
      }
    },
    {
      "cell_type": "code",
      "execution_count": null,
      "metadata": {
        "id": "ZlQybvCmco8h"
      },
      "outputs": [],
      "source": [
        ""
      ]
    },
    {
      "cell_type": "markdown",
      "source": [
        "Fill your nickname in the blank below: \n",
        "You don't have to compile it :-)"
      ],
      "metadata": {
        "id": "Qw05ec-F1M8E"
      }
    },
    {
      "cell_type": "code",
      "source": [
        ""
      ],
      "metadata": {
        "id": "8hXikxdA1Vr2"
      },
      "execution_count": null,
      "outputs": []
    },
    {
      "cell_type": "markdown",
      "source": [
        "## Q. Barcode Validator (20 points)\n",
        "When you read a barcode, you must validate the barcode.\n",
        "A barcode contains 13 digits, the first 12 digits are body and the last digit is the checksum for validating the 12 digits.\n",
        "See the article: https://en.wikipedia.org/wiki/International_Article_Number\n",
        "\n",
        "The procedure is as follows:\n",
        "1. Calculate the sum of below two items:\n",
        " - A digit in the odd column (left to right and start index is 1): digit * 1\n",
        " - A digit in the even column (left to right and start index is 1): digit * 3\n",
        "2. find the remainder of the result of 1 divided by 10. \n",
        "3. Calculate 10 minus the result of 2 and find the remainder of it divided by 10.\n",
        "4. Check if the last digit of the barcode matches the result of 3 .\n",
        "\n",
        "- Example: The number of a barcode is \"1234567890123\".\n",
        " - Body of the barcode is \"123456789012\" and checksum is \"3\".\n",
        " - Odd Column: 1, 3, 5, 7, 9, 1: 1+3+5+7+9+1=26 (Note: please take care of the last digit)\n",
        " - Even Column: 2, 4, 6, 8, 0, 2: (2+4+6+8+0+2)*3=66\n",
        " - Thus, 26 + 66 = 92\n",
        " - 92 % 10 = 2, 10 - 2 = 8, 8 % 10 = 8\n",
        "\n",
        "So, the last digit in the barcode \"123456789012\" must be 8, but actually it is 3.  Therefore the barcode is invalid.\n",
        "\n",
        "This validation will be conducted because the barcode reader may recognize wrongly with the barcode. \n",
        "\n",
        "Valid barcode:\n",
        "```\n",
        "8851952350161\n",
        "9784274221804\n",
        "```\n",
        "\n",
        "Invalid barcode:\n",
        "```\n",
        "8851952350164\n",
        "9784894715791\n",
        "```\n",
        "\n",
        "Step to execute the programs:\n",
        "- Step 1. please implement or modify of `validate_barcode`.\n",
        "- Step 2. run the program of main routine. if you confirmed the program was wrong, back to the step 1.\n",
        "\n",
        "\n"
      ],
      "metadata": {
        "id": "YNDATU8r5rbO"
      }
    },
    {
      "cell_type": "markdown",
      "source": [
        "Implement the following function `validate_barcode`.\n",
        "\n",
        "**Once you implement or modify, press \"play\" button** to read and understand by Python interpreter."
      ],
      "metadata": {
        "id": "GRl9zzBg4NfY"
      }
    },
    {
      "cell_type": "code",
      "source": [
        "def validate_barcode(barcode):\n",
        "  \"\"\"returns True if barcode is valid or False if barcode is invalid. \"\"\"\n",
        "  # Implement here to validate barcode\n",
        "  # Hint: use slicing or list(str), for each character in barcode\n",
        "  return False"
      ],
      "metadata": {
        "id": "lPGHy_7W4J9s"
      },
      "execution_count": null,
      "outputs": []
    },
    {
      "cell_type": "markdown",
      "source": [
        "After implementing or modifying the function `validate_barcode`, run the following program.\n",
        "You can check the behaviour of how `validate_barcode` works.\n",
        "Please remember that you must press \"play\" button of `validate_barcode` if you modify the function every time."
      ],
      "metadata": {
        "id": "7-AFwQcI4R92"
      }
    },
    {
      "cell_type": "code",
      "source": [
        "# Don't edit the below\n",
        "input_barcode = \"!\"\n",
        "while (input_barcode != \"\"):\n",
        "  try:\n",
        "    input_barcode = input(\"Enter a barcode:\")\n",
        "    input_b = int(input_barcode) # if an entered code can't be convertible to number, it is invalid.\n",
        "    if (validate_barcode(input_barcode)):\n",
        "      print(\"barcode is valid\")\n",
        "    else:\n",
        "      print(\"barcode is invalid\")\n",
        "  except ValueError:\n",
        "    if input_barcode != \"\":\n",
        "      print(\"Not a number\")\n"
      ],
      "metadata": {
        "id": "sxsE9abd966T"
      },
      "execution_count": null,
      "outputs": []
    },
    {
      "cell_type": "markdown",
      "source": [
        "## Q. Ackermann Function (20points)\n",
        "Ackermann function is defined as follows:\n",
        "https://en.wikipedia.org/wiki/Ackermann_function\n",
        "\n",
        "$\n",
        "A(0,n) = n + 1 \\\\\n",
        "A(m+1,0) = A(m, 1)  \\\\\n",
        "A(m+1, n+1) = A(m, A(m+1, n))\n",
        "$\n",
        "\n",
        "where $m$ and $n$ is an zero or natural number.\n",
        "\n",
        "For example,\n",
        "\n",
        "$\n",
        "A(0,0) = 0 + 1 = 1 \\\\\n",
        "A(1,0) = A(0,1) = 2 \\\\\n",
        "A(2,0) = A(1,1) = A(0, A(1,0)) = A(0,2) = 3 \\\\\n",
        "$\n",
        "$\n",
        "A(0,1) = 1 + 1 = 2 \\\\\n",
        "A(1,1) = A(0,A(1,0)) = A(0,2) = 3 \\\\\n",
        "A(2,1) = A(1,A(2,0)) = A(1,3) = A(0,A(1,2)) = A(0, A(0, A(1,1))) = A(0, A(0, 3)) = A(0,4) = 5\n",
        "$\n",
        "\n",
        "In this question, write a program to calculate the ackermann function **using recursive call**.\n",
        "If you caught a RecursionError when m is no less than 4, you don't have to take care of it. \n",
        "\n",
        "Step to execute the programs:\n",
        "- Step 1. please implement or modify of `ackermann`.\n",
        "- Step 2. run the program of main routine. if you confirmed the program was wrong, back to the step 1.\n"
      ],
      "metadata": {
        "id": "U0mQsUqE0UZJ"
      }
    },
    {
      "cell_type": "markdown",
      "source": [
        "Implement the function `ackermann`. If you completed to implement or modify, please press \"play\" button."
      ],
      "metadata": {
        "id": "SWh-jtRj513T"
      }
    },
    {
      "cell_type": "code",
      "source": [
        "def ackermann(m:int, n:int):\n",
        "  # Implement the function using the equations"
      ],
      "metadata": {
        "id": "wnH-oCsI55qo"
      },
      "execution_count": null,
      "outputs": []
    },
    {
      "cell_type": "markdown",
      "source": [
        "After pressing \"play\" button above, please run the program below:"
      ],
      "metadata": {
        "id": "JAxjBCGE5_Bx"
      }
    },
    {
      "cell_type": "code",
      "source": [
        "for i in range(4):\n",
        "  for j in range(4):\n",
        "    print(\"ackermann(\",i,\",\",j,\")=\",ackermann(i, j))\n"
      ],
      "metadata": {
        "colab": {
          "base_uri": "https://localhost:8080/"
        },
        "id": "JCxjpcxD9g6z",
        "outputId": "5cc2c516-a3ab-4fce-f01b-b0691855d364"
      },
      "execution_count": null,
      "outputs": [
        {
          "output_type": "stream",
          "name": "stdout",
          "text": [
            "ackerman( 0 , 0 )= 1\n",
            "ackerman( 0 , 1 )= 2\n",
            "ackerman( 0 , 2 )= 3\n",
            "ackerman( 0 , 3 )= 4\n",
            "ackerman( 1 , 0 )= 2\n",
            "ackerman( 1 , 1 )= 3\n",
            "ackerman( 1 , 2 )= 4\n",
            "ackerman( 1 , 3 )= 5\n",
            "ackerman( 2 , 0 )= 3\n",
            "ackerman( 2 , 1 )= 5\n",
            "ackerman( 2 , 2 )= 7\n",
            "ackerman( 2 , 3 )= 9\n",
            "ackerman( 3 , 0 )= 5\n",
            "ackerman( 3 , 1 )= 13\n",
            "ackerman( 3 , 2 )= 29\n",
            "ackerman( 3 , 3 )= 61\n"
          ]
        }
      ]
    },
    {
      "cell_type": "markdown",
      "source": [
        "## Q. ZIP file checker (20points)\n",
        "Write a program to determine whether a specified file is a ZIP archive by its magic number.\n",
        "\n",
        "ZIP has one of the following \"magic numbers\" consisting of 4bytes at the beginning of a file: \n",
        "- 0x50 0x4B 0x03 0x04 \n",
        "- 0x50 0x4B 0x05 0x06 \n",
        "- 0x50 0x4B 0x07 0x08\n",
        "\n",
        "https://en.wikipedia.org/wiki/ZIP_(file_format)\n",
        "\n",
        "Hint: The magic number contains binary.\n",
        "\n",
        "Hint: represent the magic number with bytestring and check if the file contains the magic number. You don't have to read the whole file.\n",
        "\n",
        "Side talk: An office file (.xlsx, .docx, .pptx) is also a ZIP archive.\n",
        "\n",
        "Note: you can use arbitrary filename.\n",
        "\n"
      ],
      "metadata": {
        "id": "OBtj3__Pp-n9"
      }
    },
    {
      "cell_type": "code",
      "source": [
        "MAGIC_NUMBERS = (b\"\", b\"\", b\"\") # 3 patterns of bytestring\n",
        "\n",
        "# fill the program to open, read and check the file is zip or not"
      ],
      "metadata": {
        "colab": {
          "base_uri": "https://localhost:8080/"
        },
        "id": "IYtGufJEv2gB",
        "outputId": "fa417880-deab-4248-b204-d7259d6b4117"
      },
      "execution_count": null,
      "outputs": [
        {
          "output_type": "stream",
          "name": "stdout",
          "text": [
            "ZIP\n"
          ]
        }
      ]
    },
    {
      "cell_type": "markdown",
      "source": [
        "## Q. EEC Factory (20points)\n",
        "\n",
        "As you already know, EEC is the region\n",
        "You can download CSV file of an open data from https://data.go.th/dataset/facproveec . This file contains information of factories in EEC region.\n",
        "\n"
      ],
      "metadata": {
        "id": "WLkRiv_0Xd3K"
      }
    },
    {
      "cell_type": "markdown",
      "source": [
        "Write a program to extract unique \"อำเภอ\" (postal code or zip code, 5 digits) (s) in the CSV data. \n",
        "- The CSV file consists of a title in the first row, a header in the second row and the contents in the other rows.\n",
        " - Each row correspondes to each factory.\n",
        " - อำเภอ is in the 13 columns in the rows.\n",
        " - When getting and printing uniq data, you don't have to sort data.\n",
        "\n",
        "Hint:\n",
        "- Step 0: Prepare an empty set in Python. You can initialize a valiable as a set: `an_set = set()`, where `an_set` is a variable.\n",
        "- Step 1: Read each line (except for the line of title and header)\n",
        "- Step 2: Get อำเภอ by extracting the 13 columns in the row. Please take care that the start index of a list is 0.\n",
        "- Step 3: Store the อำเภอ into the set. use `add()` method.\n"
      ],
      "metadata": {
        "id": "QewrrnWSZ-3A"
      }
    },
    {
      "cell_type": "code",
      "source": [
        "import csv\n",
        "\n",
        "uniq_zip = set()\n",
        "\n",
        "# Read each line except for headers and extract zip code and add to the uniq_zip\n",
        "\n",
        "print(uniq_zip)\n",
        "\n"
      ],
      "metadata": {
        "colab": {
          "base_uri": "https://localhost:8080/"
        },
        "id": "rZOvv0JLZicB",
        "outputId": "b021a505-9416-4493-b874-bb2fb8bf624e"
      },
      "execution_count": null,
      "outputs": [
        {
          "output_type": "stream",
          "name": "stdout",
          "text": [
            "{'', '24150', '20220', '24000', '20150', '21150', '21210', '24140', '20110', '21000', '21100', '20190', '20160', '21180', '21190', '24110', 'ไปรษณีย์', '21110', '24130', '24160', '20000', '20250', '20120', '20240', '21170', '20270', '20170', '24180', '22160', '20180', '21130', '21120', '20130', '21160', '20230', '20140', '24170', '24120', '24190', '21140'}\n"
          ]
        }
      ]
    },
    {
      "cell_type": "markdown",
      "source": [
        "## Q. Lychrel number (Recursive Call) (20points)\n",
        "An explanation is available here: https://en.wikipedia.org/wiki/Lychrel_number\n",
        "\n",
        "A Lychrel number is a natural number that cannot form a palindrome through the iterative process of repeatedly reversing its digits and adding the resulting numbers.  \n",
        "\n",
        "For example, 71 is not a Lychrel number because 71 + 17 (reversed order of 71) = 88, 88 of string is a palindrome. \n",
        "\n",
        "On the other hand, these numbers are considered (it means a proof hasn't been found) as lychrel numbers.\n",
        "\n",
        "196, 295, 394, 493, 592, 689, 691, 788, 790, 879, 887, 978, 986, 1495, 1497, 1585, 1587, 1675, 1677, 1765, 1767, 1855, 1857, 1945, 1947, 1997\n",
        "\n",
        "So, pleae write a program which determines the input number is **not** a Lycrell number. \n",
        "Please note how many times the function `is_lycrell(n)` call is unknown. **It implies that you should write a program by using recursive call(s)**. If too many recursive call occurs, then it will raise an RecursionError exception and the main routine handles the exception.\n",
        "\n",
        "Hint: When you want to check the given string is a palindrome, you can consider to convert a string into a list by `list(str)`, where `str` is a string. You can remove an element in the list by calling `a_list.pop(position)` function, where the `position` is the index of the `a_list`. \n",
        "\n",
        "Step to execute the programs:\n",
        "- Step 1. please run the program of `check_palindrome`.\n",
        "- Step 2. please implement or modify of `is_lychrel`. You can use the function `check_palindrome` (because program was already loaded in the step 1).\n",
        "- Step 3. run the program of main routine. if you confirmed the program was wrong, back to the step 2.\n"
      ],
      "metadata": {
        "id": "xLieRtyEo___"
      }
    },
    {
      "cell_type": "markdown",
      "source": [
        "Implement the function of `check_palindrome`:\n",
        "\n",
        "After implementing, run the program to define `check_palindrome`. You can use `check_palindrome` in implementing `is_lychrel`.\n",
        "\n",
        "Please don't edit the code. "
      ],
      "metadata": {
        "id": "XzFPbC0l6Vvp"
      }
    },
    {
      "cell_type": "code",
      "source": [
        "def check_palindrome(str):\n",
        "  '''str: determine the given argument of string is a palindrome.'''\n",
        "  str_list = list(str) # make a list of str\n",
        "  while len(str_list) >= 2: # If str is considered as a palindrome, repeat to delete the head and last element\n",
        "    if str_list[0] != str_list[len(str_list)-1]:\n",
        "      return False # found the string being not a palindrome\n",
        "    str_list.pop(0)\n",
        "    str_list.pop(len(str_list)-1)\n",
        "  return True"
      ],
      "metadata": {
        "id": "w8mi3mQ_6p8V"
      },
      "execution_count": null,
      "outputs": []
    },
    {
      "cell_type": "markdown",
      "source": [
        "Implement the function `is_lychrel`.\n",
        "If you completed, please press \"play\" button."
      ],
      "metadata": {
        "id": "PaIXsFZu6z1H"
      }
    },
    {
      "cell_type": "code",
      "source": [
        "def is_lychrel(num):\n",
        "  '''num: a number to be determined if it is a Lychrel number.'''\n",
        "  # Implement this function.\n",
        "\n",
        "  # don't edit the line below\n",
        "  return is_lychrel(s) # if too many recursions occur, then it raise a RecursionException.\n",
        "  # If RecursionException was occurred, it means the number can be a lychrel number.\n"
      ],
      "metadata": {
        "id": "evVlZKp16aUd"
      },
      "execution_count": null,
      "outputs": []
    },
    {
      "cell_type": "markdown",
      "source": [
        "After you implemented or modified `is_lychrel`, please run the program and check the behaviour. "
      ],
      "metadata": {
        "id": "hy06fRY_6f42"
      }
    },
    {
      "cell_type": "code",
      "source": [
        "# Don't edit below\n",
        "n = 1\n",
        "while n >= 1:\n",
        "  n = int(input(\"Enter a positive integer:\"))\n",
        "  if n > 0:\n",
        "    try:\n",
        "      if not is_lychrel(n):\n",
        "        print(n, \"is not a Lychrel number\")\n",
        "    except RecursionError:\n",
        "      print(n, \"can be a Lychrel number\")\n"
      ],
      "metadata": {
        "colab": {
          "base_uri": "https://localhost:8080/",
          "height": 1000
        },
        "id": "0F7U1fNefasP",
        "outputId": "2d6b95ce-cde2-4888-b46c-fedd8eb7fb0c"
      },
      "execution_count": null,
      "outputs": [
        {
          "output_type": "stream",
          "name": "stdout",
          "text": [
            "Enter a positive integer:89\n",
            "187\n",
            "968\n",
            "1837\n",
            "9218\n",
            "17347\n",
            "91718\n",
            "173437\n",
            "907808\n",
            "1716517\n",
            "8872688\n",
            "17735476\n",
            "85189247\n",
            "159487405\n",
            "664272356\n",
            "1317544822\n",
            "3602001953\n",
            "7193004016\n",
            "13297007933\n",
            "47267087164\n",
            "93445163438\n",
            "176881317877\n",
            "955594506548\n",
            "1801200002107\n",
            "8813200023188\n",
            "89 is not a Lycrell number\n"
          ]
        },
        {
          "output_type": "error",
          "ename": "KeyboardInterrupt",
          "evalue": "ignored",
          "traceback": [
            "\u001b[0;31m---------------------------------------------------------------------------\u001b[0m",
            "\u001b[0;31mKeyboardInterrupt\u001b[0m                         Traceback (most recent call last)",
            "\u001b[0;32m/usr/local/lib/python3.7/dist-packages/ipykernel/kernelbase.py\u001b[0m in \u001b[0;36m_input_request\u001b[0;34m(self, prompt, ident, parent, password)\u001b[0m\n\u001b[1;32m    728\u001b[0m             \u001b[0;32mtry\u001b[0m\u001b[0;34m:\u001b[0m\u001b[0;34m\u001b[0m\u001b[0;34m\u001b[0m\u001b[0m\n\u001b[0;32m--> 729\u001b[0;31m                 \u001b[0mident\u001b[0m\u001b[0;34m,\u001b[0m \u001b[0mreply\u001b[0m \u001b[0;34m=\u001b[0m \u001b[0mself\u001b[0m\u001b[0;34m.\u001b[0m\u001b[0msession\u001b[0m\u001b[0;34m.\u001b[0m\u001b[0mrecv\u001b[0m\u001b[0;34m(\u001b[0m\u001b[0mself\u001b[0m\u001b[0;34m.\u001b[0m\u001b[0mstdin_socket\u001b[0m\u001b[0;34m,\u001b[0m \u001b[0;36m0\u001b[0m\u001b[0;34m)\u001b[0m\u001b[0;34m\u001b[0m\u001b[0;34m\u001b[0m\u001b[0m\n\u001b[0m\u001b[1;32m    730\u001b[0m             \u001b[0;32mexcept\u001b[0m \u001b[0mException\u001b[0m\u001b[0;34m:\u001b[0m\u001b[0;34m\u001b[0m\u001b[0;34m\u001b[0m\u001b[0m\n",
            "\u001b[0;32m/usr/local/lib/python3.7/dist-packages/jupyter_client/session.py\u001b[0m in \u001b[0;36mrecv\u001b[0;34m(self, socket, mode, content, copy)\u001b[0m\n\u001b[1;32m    802\u001b[0m         \u001b[0;32mtry\u001b[0m\u001b[0;34m:\u001b[0m\u001b[0;34m\u001b[0m\u001b[0;34m\u001b[0m\u001b[0m\n\u001b[0;32m--> 803\u001b[0;31m             \u001b[0mmsg_list\u001b[0m \u001b[0;34m=\u001b[0m \u001b[0msocket\u001b[0m\u001b[0;34m.\u001b[0m\u001b[0mrecv_multipart\u001b[0m\u001b[0;34m(\u001b[0m\u001b[0mmode\u001b[0m\u001b[0;34m,\u001b[0m \u001b[0mcopy\u001b[0m\u001b[0;34m=\u001b[0m\u001b[0mcopy\u001b[0m\u001b[0;34m)\u001b[0m\u001b[0;34m\u001b[0m\u001b[0;34m\u001b[0m\u001b[0m\n\u001b[0m\u001b[1;32m    804\u001b[0m         \u001b[0;32mexcept\u001b[0m \u001b[0mzmq\u001b[0m\u001b[0;34m.\u001b[0m\u001b[0mZMQError\u001b[0m \u001b[0;32mas\u001b[0m \u001b[0me\u001b[0m\u001b[0;34m:\u001b[0m\u001b[0;34m\u001b[0m\u001b[0;34m\u001b[0m\u001b[0m\n",
            "\u001b[0;32m/usr/local/lib/python3.7/dist-packages/zmq/sugar/socket.py\u001b[0m in \u001b[0;36mrecv_multipart\u001b[0;34m(self, flags, copy, track)\u001b[0m\n\u001b[1;32m    624\u001b[0m         \"\"\"\n\u001b[0;32m--> 625\u001b[0;31m         \u001b[0mparts\u001b[0m \u001b[0;34m=\u001b[0m \u001b[0;34m[\u001b[0m\u001b[0mself\u001b[0m\u001b[0;34m.\u001b[0m\u001b[0mrecv\u001b[0m\u001b[0;34m(\u001b[0m\u001b[0mflags\u001b[0m\u001b[0;34m,\u001b[0m \u001b[0mcopy\u001b[0m\u001b[0;34m=\u001b[0m\u001b[0mcopy\u001b[0m\u001b[0;34m,\u001b[0m \u001b[0mtrack\u001b[0m\u001b[0;34m=\u001b[0m\u001b[0mtrack\u001b[0m\u001b[0;34m)\u001b[0m\u001b[0;34m]\u001b[0m\u001b[0;34m\u001b[0m\u001b[0;34m\u001b[0m\u001b[0m\n\u001b[0m\u001b[1;32m    626\u001b[0m         \u001b[0;31m# have first part already, only loop while more to receive\u001b[0m\u001b[0;34m\u001b[0m\u001b[0;34m\u001b[0m\u001b[0;34m\u001b[0m\u001b[0m\n",
            "\u001b[0;32mzmq/backend/cython/socket.pyx\u001b[0m in \u001b[0;36mzmq.backend.cython.socket.Socket.recv\u001b[0;34m()\u001b[0m\n",
            "\u001b[0;32mzmq/backend/cython/socket.pyx\u001b[0m in \u001b[0;36mzmq.backend.cython.socket.Socket.recv\u001b[0;34m()\u001b[0m\n",
            "\u001b[0;32mzmq/backend/cython/socket.pyx\u001b[0m in \u001b[0;36mzmq.backend.cython.socket._recv_copy\u001b[0;34m()\u001b[0m\n",
            "\u001b[0;32m/usr/local/lib/python3.7/dist-packages/zmq/backend/cython/checkrc.pxd\u001b[0m in \u001b[0;36mzmq.backend.cython.checkrc._check_rc\u001b[0;34m()\u001b[0m\n",
            "\u001b[0;31mKeyboardInterrupt\u001b[0m: ",
            "\nDuring handling of the above exception, another exception occurred:\n",
            "\u001b[0;31mKeyboardInterrupt\u001b[0m                         Traceback (most recent call last)",
            "\u001b[0;32m<ipython-input-21-f4e30438d018>\u001b[0m in \u001b[0;36m<module>\u001b[0;34m()\u001b[0m\n\u001b[1;32m     27\u001b[0m \u001b[0mn\u001b[0m \u001b[0;34m=\u001b[0m \u001b[0;36m1\u001b[0m\u001b[0;34m\u001b[0m\u001b[0;34m\u001b[0m\u001b[0m\n\u001b[1;32m     28\u001b[0m \u001b[0;32mwhile\u001b[0m \u001b[0mn\u001b[0m \u001b[0;34m>=\u001b[0m \u001b[0;36m1\u001b[0m\u001b[0;34m:\u001b[0m\u001b[0;34m\u001b[0m\u001b[0;34m\u001b[0m\u001b[0m\n\u001b[0;32m---> 29\u001b[0;31m   \u001b[0mn\u001b[0m \u001b[0;34m=\u001b[0m \u001b[0mint\u001b[0m\u001b[0;34m(\u001b[0m\u001b[0minput\u001b[0m\u001b[0;34m(\u001b[0m\u001b[0;34m\"Enter a positive integer:\"\u001b[0m\u001b[0;34m)\u001b[0m\u001b[0;34m)\u001b[0m\u001b[0;34m\u001b[0m\u001b[0;34m\u001b[0m\u001b[0m\n\u001b[0m\u001b[1;32m     30\u001b[0m   \u001b[0;32mif\u001b[0m \u001b[0mn\u001b[0m \u001b[0;34m>\u001b[0m \u001b[0;36m0\u001b[0m\u001b[0;34m:\u001b[0m\u001b[0;34m\u001b[0m\u001b[0;34m\u001b[0m\u001b[0m\n\u001b[1;32m     31\u001b[0m     \u001b[0;32mtry\u001b[0m\u001b[0;34m:\u001b[0m\u001b[0;34m\u001b[0m\u001b[0;34m\u001b[0m\u001b[0m\n",
            "\u001b[0;32m/usr/local/lib/python3.7/dist-packages/ipykernel/kernelbase.py\u001b[0m in \u001b[0;36mraw_input\u001b[0;34m(self, prompt)\u001b[0m\n\u001b[1;32m    702\u001b[0m             \u001b[0mself\u001b[0m\u001b[0;34m.\u001b[0m\u001b[0m_parent_ident\u001b[0m\u001b[0;34m,\u001b[0m\u001b[0;34m\u001b[0m\u001b[0;34m\u001b[0m\u001b[0m\n\u001b[1;32m    703\u001b[0m             \u001b[0mself\u001b[0m\u001b[0;34m.\u001b[0m\u001b[0m_parent_header\u001b[0m\u001b[0;34m,\u001b[0m\u001b[0;34m\u001b[0m\u001b[0;34m\u001b[0m\u001b[0m\n\u001b[0;32m--> 704\u001b[0;31m             \u001b[0mpassword\u001b[0m\u001b[0;34m=\u001b[0m\u001b[0;32mFalse\u001b[0m\u001b[0;34m,\u001b[0m\u001b[0;34m\u001b[0m\u001b[0;34m\u001b[0m\u001b[0m\n\u001b[0m\u001b[1;32m    705\u001b[0m         )\n\u001b[1;32m    706\u001b[0m \u001b[0;34m\u001b[0m\u001b[0m\n",
            "\u001b[0;32m/usr/local/lib/python3.7/dist-packages/ipykernel/kernelbase.py\u001b[0m in \u001b[0;36m_input_request\u001b[0;34m(self, prompt, ident, parent, password)\u001b[0m\n\u001b[1;32m    732\u001b[0m             \u001b[0;32mexcept\u001b[0m \u001b[0mKeyboardInterrupt\u001b[0m\u001b[0;34m:\u001b[0m\u001b[0;34m\u001b[0m\u001b[0;34m\u001b[0m\u001b[0m\n\u001b[1;32m    733\u001b[0m                 \u001b[0;31m# re-raise KeyboardInterrupt, to truncate traceback\u001b[0m\u001b[0;34m\u001b[0m\u001b[0;34m\u001b[0m\u001b[0;34m\u001b[0m\u001b[0m\n\u001b[0;32m--> 734\u001b[0;31m                 \u001b[0;32mraise\u001b[0m \u001b[0mKeyboardInterrupt\u001b[0m\u001b[0;34m\u001b[0m\u001b[0;34m\u001b[0m\u001b[0m\n\u001b[0m\u001b[1;32m    735\u001b[0m             \u001b[0;32melse\u001b[0m\u001b[0;34m:\u001b[0m\u001b[0;34m\u001b[0m\u001b[0;34m\u001b[0m\u001b[0m\n\u001b[1;32m    736\u001b[0m                 \u001b[0;32mbreak\u001b[0m\u001b[0;34m\u001b[0m\u001b[0;34m\u001b[0m\u001b[0m\n",
            "\u001b[0;31mKeyboardInterrupt\u001b[0m: "
          ]
        }
      ]
    }
  ]
}