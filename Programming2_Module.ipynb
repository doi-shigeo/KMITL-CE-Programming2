{
  "nbformat": 4,
  "nbformat_minor": 0,
  "metadata": {
    "colab": {
      "name": "Programming2_Module.ipynb",
      "provenance": [],
      "collapsed_sections": [],
      "history_visible": true,
      "authorship_tag": "ABX9TyN3bGXPvSUjQD8fJQQ1YLvY",
      "include_colab_link": true
    },
    "kernelspec": {
      "name": "python3",
      "display_name": "Python 3"
    },
    "language_info": {
      "name": "python"
    }
  },
  "cells": [
    {
      "cell_type": "markdown",
      "metadata": {
        "id": "view-in-github",
        "colab_type": "text"
      },
      "source": [
        "<a href=\"https://colab.research.google.com/github/doi-shigeo/KMITL-CE-Programming2/blob/main/Programming2_Module.ipynb\" target=\"_parent\"><img src=\"https://colab.research.google.com/assets/colab-badge.svg\" alt=\"Open In Colab\"/></a>"
      ]
    },
    {
      "cell_type": "markdown",
      "source": [
        "# Module\n",
        "\n",
        "Notice: This jupyter notebook depends on the environment. Let me assume that you run it on Google Colab.\n",
        "\n",
        "## What is \"module\"?\n",
        "\n",
        "\"Module\" is a set of a functionality. \n",
        "In a computer engineering company or organization, employees make not only programs but also modules. It is also said \"library\" or \"package\".\n",
        "\n",
        "By using modules in your program, you can implement a program with less coding.\n",
        "\n",
        "For example, you want to develop an AI (Aritificial Intelligence) program to recognize a face and determine who he/she is, you can import modules to recognize a face.\n",
        "Fortunately, you can find a lot of modules at GitHub ( https://github.com/ ) and other distribution sites.\n",
        "In other words, you can re-use source codes or libralies to achieve the purpose of your program so that you can concentrate to develop the functionality that you want. And it also improves the quality and reliability of the module.\n",
        "\n",
        "Modules are developed by many languages. In Python, you can use a module implemented with Python or C language. In this chapter, **we focus on the modules developed with Python**. \n",
        "\n",
        "Of course, you can develop a module. If you develop a module by yourself, you can contribute to the extension of the computer software.\n",
        "\n",
        "## Standard modules and External modules\n",
        "In Python there are some \"standard\" modules. \"standard\" means that once you install Python, you can use them without time and effort. On the other hand, \"external\" means the module isn't installed on an environment by default.\n",
        "\n",
        "You can see Python3 standard modules from the URL:\n",
        "https://docs.python.org/3/library/\n",
        "\n",
        "You can search and browse modules from the URL:\n",
        "https://pypi.org/\n",
        "\n",
        "In addition to this, once you install an external module, you can use the module in your program(s). "
      ],
      "metadata": {
        "id": "4RONm-2Ogw9i"
      }
    },
    {
      "cell_type": "markdown",
      "source": [
        "## Programming using a module\n",
        "### import a module\n",
        "Before you use modules in your program, you have to declare what module you use in the program.\n",
        "\n",
        "```\n",
        "import (module name)\n",
        "```\n",
        "\n",
        "In the example below, it uses `math.pi`, defined in the \"math\" module.\n",
        "Of course, you can define it by yourself. \n",
        "However, in developing a program, if a module defines a constant or a function which you want to use, you should use the defined constant or function. "
      ],
      "metadata": {
        "id": "vDRUS5vgg4Hy"
      }
    },
    {
      "cell_type": "code",
      "source": [
        "import math     # import \"math\" module\n",
        "\n",
        "print(math.pi)  # use \"pi\" defined in the \"math\" module\n"
      ],
      "metadata": {
        "colab": {
          "base_uri": "https://localhost:8080/"
        },
        "id": "ZTVJWzRPiB0r",
        "outputId": "3c5f1002-3729-4c52-8612-0083671717e2"
      },
      "execution_count": null,
      "outputs": [
        {
          "output_type": "stream",
          "name": "stdout",
          "text": [
            "3.141592653589793\n"
          ]
        }
      ]
    },
    {
      "cell_type": "code",
      "source": [
        "import math\n",
        "\n",
        "def deg2rad(d):\n",
        "  assert type(d) == float or type(d) == int # the argument (in degree) must be a number\n",
        "  return d * math.pi / 180.0                # convert an angle in degree into that in radian\n",
        "\n",
        "print(math.sin(deg2rad(90)))                # use sine function. This must be 1\n",
        "print(math.cos(deg2rad(90)))                # couse sine function. This must be 1\n",
        "                                            # \"e-17\" means 10 to the power of 17th"
      ],
      "metadata": {
        "colab": {
          "base_uri": "https://localhost:8080/"
        },
        "id": "GOrORGY8Feje",
        "outputId": "19b583f9-a1db-4667-9c9f-43df6e4f25cd"
      },
      "execution_count": null,
      "outputs": [
        {
          "output_type": "stream",
          "name": "stdout",
          "text": [
            "1.0\n",
            "6.123233995736766e-17\n"
          ]
        }
      ]
    },
    {
      "cell_type": "markdown",
      "source": [
        "As you can see the result above, \n",
        "you can use a value or function using the specified nane in `import` statement.\n",
        "You can define an alias (\"namespace\" in technical term) of the modules like this:"
      ],
      "metadata": {
        "id": "xLi8YoOKiOBJ"
      }
    },
    {
      "cell_type": "code",
      "source": [
        "import math as m   # import math module and set its namespace to m\n",
        "\n",
        "print(m.pi)"
      ],
      "metadata": {
        "colab": {
          "base_uri": "https://localhost:8080/"
        },
        "id": "E6m2gDxgHK8b",
        "outputId": "1405ddf8-408a-4701-dcbd-6311f843d1e5"
      },
      "execution_count": null,
      "outputs": [
        {
          "output_type": "stream",
          "name": "stdout",
          "text": [
            "3.141592653589793\n"
          ]
        }
      ]
    },
    {
      "cell_type": "markdown",
      "source": [
        "`import (module)` statement imports all functions defined in `(module)`.\n",
        "To avoid import all functions in the module, you can use `from (module) import (function)` statement.\n",
        "\n",
        "In this example below, you tried to import function 'sin' from `csv` module, but no \"sin\" function or constant defined in `csv` module,"
      ],
      "metadata": {
        "id": "ZwYVD_HvNOAd"
      }
    },
    {
      "cell_type": "code",
      "source": [
        "from csv import sin"
      ],
      "metadata": {
        "id": "lpDk6XKoOM88"
      },
      "execution_count": null,
      "outputs": []
    },
    {
      "cell_type": "markdown",
      "source": [
        "You can write like the below to import functions and contstants defined in the `(module)`. `*` means everything defined in the `(module)`.\n",
        "```\n",
        "from (module) import * \n",
        "```\n",
        "\n",
        "In this case, you can use sine function without the prefix such as \"math\".\n",
        "However, Python cannot determine like the source code below, where A and B are modules. Importing modules like the code below may appear in old sources. \n",
        "```\n",
        "from A import a_func   # it means to import a_func from A\n",
        "from B import a_func   # it means to import a_func from B\n",
        "\n",
        "a_func()               # which? defined in A? B? Python may explode itself :-)\n",
        "\n",
        "```\n",
        "In this case, \n",
        "- module A defines `a_func`\n",
        "- module B defines `a_func`\n",
        "\n",
        "Python can't determine `a_func`.  of which function defined in A or B.\n",
        "So in the latest Python, `import (module)` statement is recommended to import a module instead of `from (module) import *`, because Python can't distinguish **the function having the same name defined in the different module**, like 'A.a_func()' and 'B.a_func()'. In this case, Python confuses to run and raise an RunTime error.\n"
      ],
      "metadata": {
        "id": "kBmEJ7PyR42K"
      }
    },
    {
      "cell_type": "code",
      "source": [
        "from math import *             # not recoomend\n",
        "\n",
        "print(sin(90 / 180 * math.pi)) # "
      ],
      "metadata": {
        "colab": {
          "base_uri": "https://localhost:8080/"
        },
        "id": "0DxgKXwnSHa5",
        "outputId": "c94fa5ca-fac9-415a-be20-3baa593aeb03"
      },
      "execution_count": null,
      "outputs": [
        {
          "output_type": "stream",
          "name": "stdout",
          "text": [
            "1.0\n"
          ]
        }
      ]
    },
    {
      "cell_type": "markdown",
      "source": [
        "## Writing a module\n",
        "You can define a module like the code below.\n",
        "\n",
        "The last two statements means if the program was called as a main routine (i.e. it is invoked from a CLI or run on Google Colab), it executes `echo(\"TEST\")`. \n"
      ],
      "metadata": {
        "id": "VHSO3oMCXBOa"
      }
    },
    {
      "cell_type": "code",
      "source": [
        "# save it to \"mymodule.py\"\n",
        "\n",
        "def echo(arg): # just echoing\n",
        "  return arg\n",
        "\n",
        "property_echo = { # define property\n",
        "    \"Name\": \"Echo\",\n",
        "    \"Place\": \"Greek\",\n",
        "}\n",
        "\n",
        "# These two statements below runs if the program is called as a main routine.\n",
        "# If this program is called as a module, the statement `print` isn't executed.\n",
        "if __name__ == \"__main__\":\n",
        "  print(echo(\"TEST\"))\n"
      ],
      "metadata": {
        "id": "1ZTRoAUCfr5t",
        "colab": {
          "base_uri": "https://localhost:8080/"
        },
        "outputId": "77e080b8-808b-4f71-ff81-a6bf00a66022"
      },
      "execution_count": null,
      "outputs": [
        {
          "output_type": "stream",
          "name": "stdout",
          "text": [
            "TEST\n"
          ]
        }
      ]
    },
    {
      "cell_type": "markdown",
      "source": [
        "Then, please do the followings:\n",
        "1. Copy the program above into a text editor, and save the file as \"mymodule.py\". (Generally the extension of Python program is \".py\")\n",
        "2. Upload mymodule.py to Google Colaboratory (use same procedure, when you uploaded \"eec.csv\" in the past mid-term report)\n",
        "3. Run the following program:"
      ],
      "metadata": {
        "id": "yGNfFUmXmTDE"
      }
    },
    {
      "cell_type": "code",
      "source": [
        "import mymodule\n",
        "\n",
        "print(mymodule.echo(\"Promthep Clock Tower\"))\n",
        "print(mymodule.property_echo[\"Name\"])\n",
        "print(mymodule.property_echo[\"Place\"])\n"
      ],
      "metadata": {
        "id": "jqhSv1UjnwKI"
      },
      "execution_count": null,
      "outputs": []
    },
    {
      "cell_type": "markdown",
      "source": [
        "As you see the result, you can use the functions and variables defined in \"mymodule.py\"."
      ],
      "metadata": {
        "id": "lDjrgrEmowy-"
      }
    },
    {
      "cell_type": "markdown",
      "source": [
        "If you want to look into the functions and variables defined in a module, call `dir(module)` function. You can see `'echo'` and `'property_echo'`. Please beware of not being distinguished.\n",
        "In addition to this, you can see the results of a string starting and ending with \"\\_\\_\" (two consecutive underscore), such as `'__builtins__'`. \n",
        "\n",
        "In Python, these names mean that they are \"built-in\" functions or properties.\n"
      ],
      "metadata": {
        "id": "Cia8XqUupOCs"
      }
    },
    {
      "cell_type": "code",
      "source": [
        "import mymodule\n",
        "\n",
        "print(dir(mymodule))"
      ],
      "metadata": {
        "id": "OrV694y4paEt"
      },
      "execution_count": null,
      "outputs": []
    },
    {
      "cell_type": "markdown",
      "source": [
        "## Group Work: Make your module (Mathematics and so on)\n",
        "You have learned a lot of functions in mathematics.\n",
        "So please define the functions (One idea is that you learned in mathematics, but not limited to) as a module, as many as you can implement.\n",
        "**Each student must implement at least one function in a module.**\n",
        "\n",
        "- Implemented functions (write the author's name of the function) and their explanation\n",
        "- Python code of the module\n",
        "- Sample code to show how to call the functions"
      ],
      "metadata": {
        "id": "nxpV42BPraSr"
      }
    },
    {
      "cell_type": "code",
      "source": [
        ""
      ],
      "metadata": {
        "id": "GvJrehqarotU"
      },
      "execution_count": null,
      "outputs": []
    },
    {
      "cell_type": "markdown",
      "source": [
        "## How to install an external module\n",
        "**Notice**: before installing a module from a not-official site, please beware of the validity.\n",
        "\n",
        "### On Google Colab\n",
        "\"!\" means the consecutive string is the Unix command on Google Colab. \n",
        "In other words, you can run some commands on Google Colab.\n",
        "\n",
        "### pip\n",
        "You can use \"pip\" command to install an external module. You can use pip on Google Colab as well as the environment you installed on your PC.\n",
        "If you tried to install a module already installed, \"pip\" detects the existance of the module.\n",
        "It also resolves the dependency of libraries. (ex. if you want to install library A but it requires B, pip installs B first then installs A. \n",
        "\n",
        "There are some variations of installing modules, \"pip\" is the most standard tool.\n",
        "\n",
        "You can use \"pip\" command to install a module. \n",
        "(module name) is mandatory to specify the module. The first character \"!\" means to use command line user interface. (You'll learn in the future)\n",
        "```\n",
        "!pip install (module name)\n",
        "```\n",
        "\n",
        "The below code is to install an external library. It tries the module \"matplotlib\", which is already installed on Google Colab. \n",
        "Please read the output and pip solves the dependency. (i.e. pip tries to install not only matplotlib, but also the required packages).  "
      ],
      "metadata": {
        "id": "_bxYpnqbF4Nb"
      }
    },
    {
      "cell_type": "code",
      "source": [
        "!pip install matplotlib"
      ],
      "metadata": {
        "id": "TBlTQEl7erPu",
        "colab": {
          "base_uri": "https://localhost:8080/"
        },
        "outputId": "f869b086-21f2-4331-a540-7d91d2907ec9"
      },
      "execution_count": 35,
      "outputs": [
        {
          "output_type": "stream",
          "name": "stdout",
          "text": [
            "Requirement already satisfied: matplotlib in /usr/local/lib/python3.7/dist-packages (3.2.2)\n",
            "Requirement already satisfied: cycler>=0.10 in /usr/local/lib/python3.7/dist-packages (from matplotlib) (0.11.0)\n",
            "Requirement already satisfied: python-dateutil>=2.1 in /usr/local/lib/python3.7/dist-packages (from matplotlib) (2.8.2)\n",
            "Requirement already satisfied: numpy>=1.11 in /usr/local/lib/python3.7/dist-packages (from matplotlib) (1.19.5)\n",
            "Requirement already satisfied: kiwisolver>=1.0.1 in /usr/local/lib/python3.7/dist-packages (from matplotlib) (1.3.2)\n",
            "Requirement already satisfied: pyparsing!=2.0.4,!=2.1.2,!=2.1.6,>=2.0.1 in /usr/local/lib/python3.7/dist-packages (from matplotlib) (3.0.6)\n",
            "Requirement already satisfied: six>=1.5 in /usr/local/lib/python3.7/dist-packages (from python-dateutil>=2.1->matplotlib) (1.15.0)\n"
          ]
        }
      ]
    },
    {
      "cell_type": "markdown",
      "source": [
        "The codes below are to install \"joke-cli\" library and run a program installed joke-cli.\n",
        "\n",
        "(joke-cli displays a randomly selected joke with respect to the specified word)"
      ],
      "metadata": {
        "id": "ZrRiurdCfDhY"
      }
    },
    {
      "cell_type": "code",
      "source": [
        "!pip install joke-cli"
      ],
      "metadata": {
        "id": "3yuZbSl5VUHv",
        "colab": {
          "base_uri": "https://localhost:8080/"
        },
        "outputId": "fd714aa3-9958-4f68-81f1-9b99edd1157f"
      },
      "execution_count": 9,
      "outputs": [
        {
          "output_type": "stream",
          "name": "stdout",
          "text": [
            "Collecting joke-cli\n",
            "  Downloading joke_cli-0.1.1.tar.gz (2.2 kB)\n",
            "Building wheels for collected packages: joke-cli\n",
            "  Building wheel for joke-cli (setup.py) ... \u001b[?25l\u001b[?25hdone\n",
            "  Created wheel for joke-cli: filename=joke_cli-0.1.1-py3-none-any.whl size=2962 sha256=ab4d9b2d0951ad8c35e03cb2829142623fe20f94f5ff5191883d8436af1e9551\n",
            "  Stored in directory: /root/.cache/pip/wheels/a5/b3/c6/21485b0d4617b0ad5efe451f1cf9fe398fd646044cf3353ac8\n",
            "Successfully built joke-cli\n",
            "Installing collected packages: joke-cli\n",
            "Successfully installed joke-cli-0.1.1\n"
          ]
        }
      ]
    },
    {
      "cell_type": "code",
      "source": [
        "!joke-cli morning"
      ],
      "metadata": {
        "id": "M2ptQ5FDeuBQ",
        "colab": {
          "base_uri": "https://localhost:8080/"
        },
        "outputId": "f63e8dfe-6ff7-4b8e-9e91-beb78e336344"
      },
      "execution_count": 14,
      "outputs": [
        {
          "output_type": "stream",
          "name": "stdout",
          "text": [
            "\n",
            "\n",
            "While we drink coffee in the morning, Chuck Norris drinks jet fuel.\n",
            "\n",
            "\n"
          ]
        }
      ]
    },
    {
      "cell_type": "markdown",
      "source": [
        "In many OSs, we use the data structure of \"file\" and \"folder or directory\" to store and organize data. It is said a \"Tree data structure\"."
      ],
      "metadata": {
        "id": "gudOBmDmL-MD"
      }
    },
    {
      "cell_type": "markdown",
      "source": [
        "You can run the following commands:\n",
        "- touch: make an empty file\n",
        "- pwd: show Present Working Directory\n",
        "- rm: ReMove a file\n",
        "- chdir or cd: CHange DIRectory (Unfortunately, it seems not to work well in Google Colab)\n",
        " - cd without argument: Change to \"home\" directory\n",
        "- mkdir: MaKe a DIRectory\n",
        "- rmdir: ReMove a DIRectory\n",
        "- cat: conCATinate files\n",
        "- ls: LiSt a directory\n",
        " - ls -la (consectuve one white space and '-la'): List files, permissions, owners, groups, size, date and time of each file.\n",
        "- echo: echo argument\n",
        "- sort: sort lines in a file in alphabetical order\n",
        "- uniq: surpress consecutive lines into one\n",
        "\n",
        "Directory \n",
        "- / : (the first letter) root directory, (otherwise) separator of directory name\n",
        "- . : same directory i.e. /root/test/ -> /root/test/\n",
        "- .. : parent directory. i.e. /root/test/ -> /root/ \n",
        "- / : separator of directory name\n",
        "\n"
      ],
      "metadata": {
        "id": "3cVR28Y4LR9p"
      }
    },
    {
      "cell_type": "code",
      "source": [
        "!cd\n",
        "!pwd\n",
        "!mkdir Directory1\n",
        "!mkdir Directory2\n",
        "!echo \"Before creating test.txt\"\n",
        "!ls -la\n",
        "\n",
        "!echo \"Creating test.txt\"\n",
        "!echo \"TEST\" > test.txt\n",
        "!echo \"AGENDA\" >> test.txt\n",
        "!cat test.txt\n",
        "!echo \"Sorting test.txt in alphabetical order\"\n",
        "!sort test.txt\n",
        "\n",
        "!ls -la\n",
        "!rm test.txt\n",
        "!ls -la\n",
        "!rmdir Directory1\n",
        "!rmdir Directory2\n",
        "!ls -la"
      ],
      "metadata": {
        "colab": {
          "base_uri": "https://localhost:8080/"
        },
        "id": "Y6alLJExMg13",
        "outputId": "632eb201-1ff7-43a3-82ba-25ba64bc0f2b"
      },
      "execution_count": 15,
      "outputs": [
        {
          "output_type": "stream",
          "name": "stdout",
          "text": [
            "/content\n",
            "Before creating test.txt\n",
            "total 24\n",
            "drwxr-xr-x 1 root root 4096 Jan 21 08:07 .\n",
            "drwxr-xr-x 1 root root 4096 Jan 21 07:34 ..\n",
            "drwxr-xr-x 4 root root 4096 Jan  7 14:33 .config\n",
            "drwxr-xr-x 2 root root 4096 Jan 21 08:07 Directory1\n",
            "drwxr-xr-x 2 root root 4096 Jan 21 08:07 Directory2\n",
            "drwxr-xr-x 1 root root 4096 Jan  7 14:33 sample_data\n",
            "Creating test.txt\n",
            "TEST\n",
            "AGENDA\n",
            "Sorting test.txt in alphabetical order\n",
            "AGENDA\n",
            "TEST\n",
            "total 28\n",
            "drwxr-xr-x 1 root root 4096 Jan 21 08:07 .\n",
            "drwxr-xr-x 1 root root 4096 Jan 21 07:34 ..\n",
            "drwxr-xr-x 4 root root 4096 Jan  7 14:33 .config\n",
            "drwxr-xr-x 2 root root 4096 Jan 21 08:07 Directory1\n",
            "drwxr-xr-x 2 root root 4096 Jan 21 08:07 Directory2\n",
            "drwxr-xr-x 1 root root 4096 Jan  7 14:33 sample_data\n",
            "-rw-r--r-- 1 root root   12 Jan 21 08:07 test.txt\n",
            "total 24\n",
            "drwxr-xr-x 1 root root 4096 Jan 21 08:07 .\n",
            "drwxr-xr-x 1 root root 4096 Jan 21 07:34 ..\n",
            "drwxr-xr-x 4 root root 4096 Jan  7 14:33 .config\n",
            "drwxr-xr-x 2 root root 4096 Jan 21 08:07 Directory1\n",
            "drwxr-xr-x 2 root root 4096 Jan 21 08:07 Directory2\n",
            "drwxr-xr-x 1 root root 4096 Jan  7 14:33 sample_data\n",
            "total 16\n",
            "drwxr-xr-x 1 root root 4096 Jan 21 08:07 .\n",
            "drwxr-xr-x 1 root root 4096 Jan 21 07:34 ..\n",
            "drwxr-xr-x 4 root root 4096 Jan  7 14:33 .config\n",
            "drwxr-xr-x 1 root root 4096 Jan  7 14:33 sample_data\n"
          ]
        }
      ]
    },
    {
      "cell_type": "markdown",
      "source": [
        "## Practice: Command Line Opetation\n",
        "\n",
        "1. Run the following program of commands and understand the behavior of the command.\n",
        "2. Then, make a program of commands to satisfy the following specification:\n",
        " - make two folders (directories), named \"Input\" and \"Output\".\n",
        " - \"Input\" folder contains two files, \"A.txt\" and \"B.txt\".\n",
        " - \"Output\" folder contains one file, named \"result.dat\" and one folder, named \"Result\".\n",
        "3. Take a screenshot of the Google Colab, including the \"Files\" pane and the \"Command\" region."
      ],
      "metadata": {
        "id": "ZKl6ZFQIO9Fv"
      }
    },
    {
      "cell_type": "code",
      "source": [
        "!pwd\n",
        "!mkdir folder1\n",
        "!mkdir folder2\n",
        "!mkdir folder1/Afolder\n",
        "!echo \"In your home:\"\n",
        "!ls -la\n",
        "!touch folder1/test.dat\n",
        "\n",
        "!mkdir anonymous\n",
        "!echo \"In folder1:\"\n",
        "!ls -la folder1\n",
        "\n",
        "!rm folder1/test.dat\n",
        "!rmdir folder1/Afolder\n",
        "!rmdir folder1\n",
        "!rmdir folder2\n",
        "!rmdir anonymous\n",
        "!echo \"In your home:\"\n",
        "!ls -la"
      ],
      "metadata": {
        "id": "SZT2GnnnPUeK",
        "colab": {
          "base_uri": "https://localhost:8080/"
        },
        "outputId": "439f541e-937b-4d1c-f591-adfbb04f5adf"
      },
      "execution_count": 7,
      "outputs": [
        {
          "output_type": "stream",
          "name": "stdout",
          "text": [
            "/content\n",
            "In your home:\n",
            "total 24\n",
            "drwxr-xr-x 1 root root 4096 Jan 21 07:39 .\n",
            "drwxr-xr-x 1 root root 4096 Jan 21 07:34 ..\n",
            "drwxr-xr-x 4 root root 4096 Jan  7 14:33 .config\n",
            "drwxr-xr-x 3 root root 4096 Jan 21 07:39 folder1\n",
            "drwxr-xr-x 2 root root 4096 Jan 21 07:39 folder2\n",
            "drwxr-xr-x 1 root root 4096 Jan  7 14:33 sample_data\n",
            "In folder1:\n",
            "total 12\n",
            "drwxr-xr-x 3 root root 4096 Jan 21 07:39 .\n",
            "drwxr-xr-x 1 root root 4096 Jan 21 07:39 ..\n",
            "drwxr-xr-x 2 root root 4096 Jan 21 07:39 Afolder\n",
            "-rw-r--r-- 1 root root    0 Jan 21 07:39 test.dat\n",
            "In your home:\n",
            "total 16\n",
            "drwxr-xr-x 1 root root 4096 Jan 21 07:39 .\n",
            "drwxr-xr-x 1 root root 4096 Jan 21 07:34 ..\n",
            "drwxr-xr-x 4 root root 4096 Jan  7 14:33 .config\n",
            "drwxr-xr-x 1 root root 4096 Jan  7 14:33 sample_data\n"
          ]
        }
      ]
    },
    {
      "cell_type": "markdown",
      "source": [
        "Write command lines below. Please don't delete '!pwd' line and place it at the first line."
      ],
      "metadata": {
        "id": "_S8hcs3zdOvS"
      }
    },
    {
      "cell_type": "code",
      "source": [
        "!pwd"
      ],
      "metadata": {
        "id": "C974DjDadRy5"
      },
      "execution_count": null,
      "outputs": []
    },
    {
      "cell_type": "markdown",
      "source": [
        "### Reference: Python Module Tutorial\n",
        "https://docs.python.org/3/tutorial/modules.html"
      ],
      "metadata": {
        "id": "VB_QJV0waACW"
      }
    }
  ]
}