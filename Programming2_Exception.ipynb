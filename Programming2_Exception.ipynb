{
  "nbformat": 4,
  "nbformat_minor": 0,
  "metadata": {
    "colab": {
      "name": "Programming2_Exception.ipynb",
      "provenance": [],
      "collapsed_sections": [],
      "authorship_tag": "ABX9TyObdOx8SkiqRrhW9cADlyfu",
      "include_colab_link": true
    },
    "kernelspec": {
      "name": "python3",
      "display_name": "Python 3"
    },
    "language_info": {
      "name": "python"
    }
  },
  "cells": [
    {
      "cell_type": "markdown",
      "metadata": {
        "id": "view-in-github",
        "colab_type": "text"
      },
      "source": [
        "<a href=\"https://colab.research.google.com/github/doi-shigeo/KMITL-CE-Programming2/blob/main/Programming2_Exception.ipynb\" target=\"_parent\"><img src=\"https://colab.research.google.com/assets/colab-badge.svg\" alt=\"Open In Colab\"/></a>"
      ]
    },
    {
      "cell_type": "markdown",
      "metadata": {
        "id": "HM0ngBxNGbtu"
      },
      "source": [
        "# Exception\n",
        "\n",
        "## What is \"Exception\"?\n",
        "\n",
        "Exception means \"abnornal\" situation happens.\n",
        "\"Exception\" is a framework which appeared in around the late 1990s in Java.\n",
        "It is used when handling abnormal situations.\n",
        "\n",
        "When you write a program, you often think **normal** operations flow. \n",
        "But please imagine a case that you are writing a program which accepts user input(s). \n",
        "\n",
        "Basically, people often make mistakes. Let's think your experience. \n",
        "Sometimes you feel not good or uncomfortable, you often tend to make mistakes.\n",
        "In general, it is inevitable that people will make mistakes conducted by a person even if he/she has no malicious intent (It is an important idea when considering risk management and safety).\n",
        "\n",
        "Anyway, when your program gets input(s) by a user, the user may make mistakes of input. But what should the program deal with the mistakes? Or, when you want to open a file to read but the file is not available (not existed). What should we do? If not existing a file is fatal, then your program can't continue to operate. In such a case, raising an exception makes you easier to write codes.\n",
        "\n",
        "In principle, when getting a user input, you must clarify what input will be accepted for the program. If any input will be accepted by the program, this may cause an problem to do by the program.\n",
        "\n",
        "In general, how to use either exception or warning. \n",
        "- **Success**: the function did normally\n",
        "- **Warning** or **Caution**: the function did normally but the program or runtime should notify user(s) or programmer(s) of something. In this case, you should return a different value from normal operation.\n",
        "- **Fatal (Error)**: the function faced a fatal situation "
      ]
    },
    {
      "cell_type": "markdown",
      "source": [
        "## Handling exceptions\n",
        "### How to write in python\n",
        "\n",
        "The summary of handing exception is as follows.\n",
        "```\n",
        "try:\n",
        "  # statements that may happen exceptions\n",
        "except:\n",
        "  # statements that handles a raised exception \n",
        "else:\n",
        "  # statements when no exception occurred\n",
        "finally:\n",
        "  # common statements for both cases that no exception occurred or an exception occurred\n",
        "```"
      ],
      "metadata": {
        "id": "G0ksEQh88_Ek"
      }
    },
    {
      "cell_type": "markdown",
      "source": [
        "### Example: File Not found\n",
        "\n",
        "When you want to open a file, but it is not found(404 in HTTP error code). When you don't handle exceptions, what will happen? "
      ],
      "metadata": {
        "id": "G5NT6GWk7uXp"
      }
    },
    {
      "cell_type": "code",
      "metadata": {
        "id": "W838utzOGU70"
      },
      "source": [
        "fp = open(\"404.txt\", \"r\") # open \"404.txt\"\n",
        "buf = fp.read() # read data\n",
        "print(buf) # just only echoing\n",
        "fp.close()\n"
      ],
      "execution_count": null,
      "outputs": []
    },
    {
      "cell_type": "markdown",
      "source": [
        "The program below handles a FileNotFoundError.\n",
        "File closing is a common operation with normal operation and an exception after opening file."
      ],
      "metadata": {
        "id": "fehtIJhM8ZtD"
      }
    },
    {
      "cell_type": "code",
      "source": [
        "fp = None # Initialize, it means no file was opened  in the context\n",
        "try:\n",
        "  with open(\"404.txt\", \"r\") as fp: # open \"404.txt\"\n",
        "    buf = fp.read() # read data\n",
        "    print(buf) # just only echoing\n",
        "\n",
        "except FileNotFoundError: # handles if FineNotFound exception raises\n",
        "  print(\"A FileNotFoundException raised\")\n",
        "\n",
        "else:\n",
        "  print(\"No exception raised\")\n",
        "\n",
        "finally:\n",
        "  if fp != None: \n",
        "    print(\"File was closed\")\n",
        "    fp.close()\n",
        "  else:\n",
        "    print(\"File wasn't opened\")\n"
      ],
      "metadata": {
        "id": "vXerqGYb8zzc"
      },
      "execution_count": null,
      "outputs": []
    },
    {
      "cell_type": "markdown",
      "source": [
        "The program below handles any exception. See the difference between this and above at **except** phrases.\n"
      ],
      "metadata": {
        "id": "yiyWUWHcJHhk"
      }
    },
    {
      "cell_type": "code",
      "source": [
        "fp = None # Initialize, it means no file was opened in the context.\n",
        "try:\n",
        "  with open(\"404.txt\", \"r\") as fp: # open \"404.txt\"\n",
        "    buf = fp.read() # read data\n",
        "    print(buf) # just only echoing\n",
        "\n",
        "except: # handles if any exception raises\n",
        "  print(\"An exception raised\")\n",
        "\n",
        "else:\n",
        "  print(\"No exception raised\")\n",
        "\n",
        "finally:\n",
        "  if fp != None: \n",
        "    print(\"File was closed\")\n",
        "    fp.close()\n",
        "  else:\n",
        "    print(\"File wasn't opened\")\n"
      ],
      "metadata": {
        "id": "a3_zOThMJYKu"
      },
      "execution_count": null,
      "outputs": []
    },
    {
      "cell_type": "markdown",
      "source": [
        "### Example: User input handing\n",
        "\n",
        "When you want to accept a number by user input, but users may enter the input which can't convert into a number. In this case, you want to ask the user to enter a number again.\n",
        "\n",
        "When calling `int()` function, it raisea a ValueError exception if the argument is not convertible into an integer.\n"
      ],
      "metadata": {
        "id": "p8BtVFrPNsNt"
      }
    },
    {
      "cell_type": "code",
      "source": [
        "n = None\n",
        "n_str = \"\"\n",
        "while n == None or n >= 1:\n",
        "  try:\n",
        "    n_str = input(\"Enter an integer\")\n",
        "    n = int(n_str)\n",
        "    print(f\"You entered: {n}\")\n",
        "  except ValueError:\n",
        "    print(f\"You entered: {n_str}\")\n",
        "    print(\"Please enter an integer!?\")\n"
      ],
      "metadata": {
        "id": "asDS68Q6JYgo"
      },
      "execution_count": null,
      "outputs": []
    },
    {
      "cell_type": "markdown",
      "source": [
        "### Example: Assertion\n",
        "You can raise an exception intentionally if some condition is not met. It is also said \"assertion\", the corresponding statement is `assert a > 0 and b > 0`.\n",
        "It means if the condition(s) isn't(aren't) met, then it will raise an `AssertionException`. Of course, the exception can be handled.\n",
        "\n",
        "In the example below, this defines a function `gcd(a,b)` which finds a greatest common divisor (GCD) of `a` and `b`.\n",
        "Finding GCD is assuming that a and b are natural numbers (positive integers). If the condition doesn't met, the program can't find GCD so it raises an \"AssertionError\". \n",
        "\n",
        "The caller of `gcd()` can handle the exception. Or, you can define unique exception(s), it will explain in later class.\n",
        "\n",
        "Assertion is a useful tool when defining a function and implementing security requirements."
      ],
      "metadata": {
        "id": "A3mjl_5QQuqv"
      }
    },
    {
      "cell_type": "code",
      "source": [
        "def gcd(a: int, b: int):\n",
        "  \"\"\"Find a greatest common divider with a and b\"\"\"\n",
        "  \"\"\"if arguments are not natural numbers, it raises an AssertionErro exception.\"\"\"\n",
        "  \"\"\"This algorithm is Euclidean algorithm, https://en.wikipedia.org/wiki/Euclidean_algorithm \"\"\"\n",
        "\n",
        "  assert a > 0 and b > 0 # assert a and b are positive.\n",
        "  assert type(a) == int and type(b) == int # assert a and b are integers\n",
        "  # please beware that the both assertions above must be met.\n",
        "\n",
        "  while b > 0:\n",
        "    t = b\n",
        "    b = a % b\n",
        "    a = t\n",
        "  return a\n",
        "\n",
        "\n",
        "try:\n",
        "  print(gcd(10,6))\n",
        "except AssertionError:\n",
        "  print(\"The arguments are invalid\")\n",
        "\n",
        "try:\n",
        "  print(gcd(10,-1))\n",
        "except AssertionError:\n",
        "  print(\"At least one of the arguments is invalid\")\n"
      ],
      "metadata": {
        "colab": {
          "base_uri": "https://localhost:8080/"
        },
        "id": "bAVf2wyxSIGS",
        "outputId": "905533ee-3ebd-46d4-92b0-50f6c660be6e"
      },
      "execution_count": null,
      "outputs": [
        {
          "output_type": "stream",
          "name": "stdout",
          "text": [
            "2\n",
            "At least one of the arguments is invalid\n"
          ]
        }
      ]
    },
    {
      "cell_type": "markdown",
      "source": [
        "`assert a > 0 and b > 0` has the same meanings of the  program below:\n",
        "```\n",
        "if not (a > 0 and b > 0):\n",
        "  raise AssertionError \n",
        "```\n",
        "\n",
        "It means the condition isn't satisfied(met), then it raises an exception. You can raise an arbitrary exception by calling `raise` statement. For `assert type(a) == int and type(b) == int`, the same explanation is applied."
      ],
      "metadata": {
        "id": "f0QxnbTfwqDX"
      }
    },
    {
      "cell_type": "markdown",
      "source": [
        "### Practice: Calculate the Average of values\n",
        "\n",
        "The following program is to calculate the average of given data. If a given datum is not a number, it raises a `ValueError` exception and ask the user to enter again by handing the exception.\n",
        "\n",
        "But the program below, it doesn't still handle the `ZeroDivisionError`. To confirm this, try to enter a negative number at first.\n",
        "So, In this practice please improve the program to handle `ZeroDivisionError`. \n",
        "\n",
        "Note: **Please use `try`..`except` phrase to handle**.\n",
        "\n",
        "\n"
      ],
      "metadata": {
        "id": "F1UhOABWeIJE"
      }
    },
    {
      "cell_type": "code",
      "source": [
        "sum_list = [] # initial condition\n",
        "v = 0\n",
        "print(\"The program finds the average.\")\n",
        "print(\"To find, enter a minus value.\")\n",
        "\n",
        "while sum_list == [] or v >=0:\n",
        "  try:\n",
        "    v = float(input(\"Enter a positive integer or real number: \"))\n",
        "    if v >= 0:\n",
        "      sum_list.append(v)\n",
        "    else:\n",
        "      break\n",
        "  except ValueError:\n",
        "    print(\"ValueError, so ignored. Enter again.\")\n",
        "\n",
        "# Don't edit below\n",
        "def average(tup):\n",
        "  return sum(tup) / len(tup) # sum() is an already implemented function.\n",
        "\n",
        "avg = average(tuple(sum_list))\n",
        "print(\"The average is \", avg)\n",
        "\n"
      ],
      "metadata": {
        "colab": {
          "base_uri": "https://localhost:8080/",
          "height": 423
        },
        "id": "AayaVS0HeG-m",
        "outputId": "b675c804-b734-4b39-9671-105d7452f195"
      },
      "execution_count": null,
      "outputs": [
        {
          "name": "stdout",
          "output_type": "stream",
          "text": [
            "The program finds the average.\n",
            "To find, enter a minus value.\n",
            "Enter a positive integer or real number: -9\n"
          ]
        },
        {
          "output_type": "error",
          "ename": "ZeroDivisionError",
          "evalue": "ignored",
          "traceback": [
            "\u001b[0;31m---------------------------------------------------------------------------\u001b[0m",
            "\u001b[0;31mZeroDivisionError\u001b[0m                         Traceback (most recent call last)",
            "\u001b[0;32m<ipython-input-8-9bfe709ce7c7>\u001b[0m in \u001b[0;36m<module>\u001b[0;34m()\u001b[0m\n\u001b[1;32m     18\u001b[0m   \u001b[0;32mreturn\u001b[0m \u001b[0msum\u001b[0m\u001b[0;34m(\u001b[0m\u001b[0mtup\u001b[0m\u001b[0;34m)\u001b[0m \u001b[0;34m/\u001b[0m \u001b[0mlen\u001b[0m\u001b[0;34m(\u001b[0m\u001b[0mtup\u001b[0m\u001b[0;34m)\u001b[0m \u001b[0;31m# sum() is an already implemented function.\u001b[0m\u001b[0;34m\u001b[0m\u001b[0;34m\u001b[0m\u001b[0m\n\u001b[1;32m     19\u001b[0m \u001b[0;34m\u001b[0m\u001b[0m\n\u001b[0;32m---> 20\u001b[0;31m \u001b[0mavg\u001b[0m \u001b[0;34m=\u001b[0m \u001b[0maverage\u001b[0m\u001b[0;34m(\u001b[0m\u001b[0mtuple\u001b[0m\u001b[0;34m(\u001b[0m\u001b[0msum_list\u001b[0m\u001b[0;34m)\u001b[0m\u001b[0;34m)\u001b[0m\u001b[0;34m\u001b[0m\u001b[0;34m\u001b[0m\u001b[0m\n\u001b[0m\u001b[1;32m     21\u001b[0m \u001b[0mprint\u001b[0m\u001b[0;34m(\u001b[0m\u001b[0;34m\"The average is \"\u001b[0m\u001b[0;34m,\u001b[0m \u001b[0mavg\u001b[0m\u001b[0;34m)\u001b[0m\u001b[0;34m\u001b[0m\u001b[0;34m\u001b[0m\u001b[0m\n\u001b[1;32m     22\u001b[0m \u001b[0;34m\u001b[0m\u001b[0m\n",
            "\u001b[0;32m<ipython-input-8-9bfe709ce7c7>\u001b[0m in \u001b[0;36maverage\u001b[0;34m(tup)\u001b[0m\n\u001b[1;32m     16\u001b[0m \u001b[0;31m# Don't edit below\u001b[0m\u001b[0;34m\u001b[0m\u001b[0;34m\u001b[0m\u001b[0;34m\u001b[0m\u001b[0m\n\u001b[1;32m     17\u001b[0m \u001b[0;32mdef\u001b[0m \u001b[0maverage\u001b[0m\u001b[0;34m(\u001b[0m\u001b[0mtup\u001b[0m\u001b[0;34m)\u001b[0m\u001b[0;34m:\u001b[0m\u001b[0;34m\u001b[0m\u001b[0;34m\u001b[0m\u001b[0m\n\u001b[0;32m---> 18\u001b[0;31m   \u001b[0;32mreturn\u001b[0m \u001b[0msum\u001b[0m\u001b[0;34m(\u001b[0m\u001b[0mtup\u001b[0m\u001b[0;34m)\u001b[0m \u001b[0;34m/\u001b[0m \u001b[0mlen\u001b[0m\u001b[0;34m(\u001b[0m\u001b[0mtup\u001b[0m\u001b[0;34m)\u001b[0m \u001b[0;31m# sum() is an already implemented function.\u001b[0m\u001b[0;34m\u001b[0m\u001b[0;34m\u001b[0m\u001b[0m\n\u001b[0m\u001b[1;32m     19\u001b[0m \u001b[0;34m\u001b[0m\u001b[0m\n\u001b[1;32m     20\u001b[0m \u001b[0mavg\u001b[0m \u001b[0;34m=\u001b[0m \u001b[0maverage\u001b[0m\u001b[0;34m(\u001b[0m\u001b[0mtuple\u001b[0m\u001b[0;34m(\u001b[0m\u001b[0msum_list\u001b[0m\u001b[0;34m)\u001b[0m\u001b[0;34m)\u001b[0m\u001b[0;34m\u001b[0m\u001b[0;34m\u001b[0m\u001b[0m\n",
            "\u001b[0;31mZeroDivisionError\u001b[0m: division by zero"
          ]
        }
      ]
    },
    {
      "cell_type": "markdown",
      "source": [
        "### Practice: Find a LCM (least common multiple)\n",
        "\n",
        "Make a program to find a LCM (least common multiple) of two natural integers (positive integers). The specification is below:\n",
        "- The program gets two numbers, `a` and `b`, by a user.\n",
        " - The user might enter not a number. If found, then ask the user to enter again.\n",
        "- You define a function `lcm(a,b)`, to calculate the LCM by `a * b / gcd(a,b)`, where `gcd(a,b)` is a GCD (greatest common divisor, described above) of `a` and `b`.\n",
        " - `gcd(a, b)` is the same definition in the above program. You can copy.\n",
        "- The function has two arguments of two natural integers for the arguments of `a` and `b`. \n",
        " - If the `a` and `b` don't meet the condition, then it raises an `AssertionException`. It implies you must check the type of `a` and `b`, and their value.\n"
      ],
      "metadata": {
        "id": "j5vupcwbb3Rp"
      }
    },
    {
      "cell_type": "code",
      "source": [
        ""
      ],
      "metadata": {
        "id": "MeeTo7NPrXXU"
      },
      "execution_count": null,
      "outputs": []
    }
  ]
}